{
 "cells": [
  {
   "cell_type": "markdown",
   "metadata": {},
   "source": [
    "<img src=\"./assets/ga-logo.png\" style=\"float: left; margin: 20px; height: 55px\">\n",
    "\n",
    "# Lab: Simple Linear Regression with Sacramento Real Estate Data - Sample Solution\n",
    "\n",
    "---"
   ]
  },
  {
   "cell_type": "markdown",
   "metadata": {},
   "source": [
    "In this lab you will hone your exploratory data analysis (EDA) skills and practice constructing simple linear regressions using a data set on Sacramento real estate sales.  The data set contains information on qualities of the property, location of the property, and time of sale."
   ]
  },
  {
   "cell_type": "code",
   "execution_count": 1,
   "metadata": {},
   "outputs": [],
   "source": [
    "import pandas as pd \n",
    "import numpy as np \n",
    "import seaborn as sns\n",
    "import matplotlib.pyplot as plt\n",
    "%matplotlib inline\n",
    "import scipy.stats as stats\n",
    "from sklearn.linear_model import LinearRegression\n",
    "from sklearn.model_selection import train_test_split\n",
    "from sklearn.metrics import mean_squared_error, r2_score\n",
    "from sklearn import metrics"
   ]
  },
  {
   "cell_type": "markdown",
   "metadata": {},
   "source": [
    "### 1. Read in the Sacramento housing data set."
   ]
  },
  {
   "cell_type": "code",
   "execution_count": 2,
   "metadata": {},
   "outputs": [],
   "source": [
    "dataset = pd.read_csv('sacramento_real_estate_transactions.csv')"
   ]
  },
  {
   "cell_type": "markdown",
   "metadata": {},
   "source": [
    "### 2. Conduct exploratory data analysis on this data set. \n",
    "\n",
    "**Report any notable findings here and any steps you take to clean/process data.**\n",
    "\n",
    "> **Note:** These EDA checks should be done on every data set you handle. If you find yourself checking repeatedly for missing/corrupted data, it might be beneficial to have a function that you can reuse every time you're given new data."
   ]
  },
  {
   "cell_type": "code",
   "execution_count": 3,
   "metadata": {},
   "outputs": [
    {
     "data": {
      "text/plain": [
       "street        object\n",
       "city          object\n",
       "zip            int64\n",
       "state         object\n",
       "beds           int64\n",
       "baths          int64\n",
       "sq__ft         int64\n",
       "type          object\n",
       "sale_date     object\n",
       "price          int64\n",
       "latitude     float64\n",
       "longitude    float64\n",
       "dtype: object"
      ]
     },
     "execution_count": 3,
     "metadata": {},
     "output_type": "execute_result"
    }
   ],
   "source": [
    "# Check the dtypes.\n",
    "dataset.dtypes"
   ]
  },
  {
   "cell_type": "code",
   "execution_count": 4,
   "metadata": {
    "scrolled": true
   },
   "outputs": [
    {
     "data": {
      "text/plain": [
       "state\n",
       "CA    984\n",
       "AC      1\n",
       "Name: count, dtype: int64"
      ]
     },
     "execution_count": 4,
     "metadata": {},
     "output_type": "execute_result"
    }
   ],
   "source": [
    "# Zip code works better as a string object (categorical) so we will have to convert it.\n",
    "dataset['state'].value_counts()"
   ]
  },
  {
   "cell_type": "code",
   "execution_count": 5,
   "metadata": {},
   "outputs": [
    {
     "data": {
      "text/html": [
       "<div>\n",
       "<style scoped>\n",
       "    .dataframe tbody tr th:only-of-type {\n",
       "        vertical-align: middle;\n",
       "    }\n",
       "\n",
       "    .dataframe tbody tr th {\n",
       "        vertical-align: top;\n",
       "    }\n",
       "\n",
       "    .dataframe thead th {\n",
       "        text-align: right;\n",
       "    }\n",
       "</style>\n",
       "<table border=\"1\" class=\"dataframe\">\n",
       "  <thead>\n",
       "    <tr style=\"text-align: right;\">\n",
       "      <th></th>\n",
       "      <th>street</th>\n",
       "      <th>city</th>\n",
       "      <th>zip</th>\n",
       "      <th>state</th>\n",
       "      <th>beds</th>\n",
       "      <th>baths</th>\n",
       "      <th>sq__ft</th>\n",
       "      <th>type</th>\n",
       "      <th>sale_date</th>\n",
       "      <th>price</th>\n",
       "      <th>latitude</th>\n",
       "      <th>longitude</th>\n",
       "    </tr>\n",
       "  </thead>\n",
       "  <tbody>\n",
       "    <tr>\n",
       "      <th>703</th>\n",
       "      <td>1900 DANBROOK DR</td>\n",
       "      <td>SACRAMENTO</td>\n",
       "      <td>95835</td>\n",
       "      <td>AC</td>\n",
       "      <td>1</td>\n",
       "      <td>1</td>\n",
       "      <td>-984</td>\n",
       "      <td>Condo</td>\n",
       "      <td>Fri May 16 00:00:00 EDT 2008</td>\n",
       "      <td>-210944</td>\n",
       "      <td>-121.503471</td>\n",
       "      <td>38.668433</td>\n",
       "    </tr>\n",
       "  </tbody>\n",
       "</table>\n",
       "</div>"
      ],
      "text/plain": [
       "               street        city    zip state  beds  baths  sq__ft   type  \\\n",
       "703  1900 DANBROOK DR  SACRAMENTO  95835    AC     1      1    -984  Condo   \n",
       "\n",
       "                        sale_date   price    latitude  longitude  \n",
       "703  Fri May 16 00:00:00 EDT 2008 -210944 -121.503471  38.668433  "
      ]
     },
     "metadata": {},
     "output_type": "display_data"
    }
   ],
   "source": [
    "display(dataset[dataset['state'] == 'AC'])\n",
    "dataset = dataset[dataset['state'] != 'AC']"
   ]
  },
  {
   "cell_type": "code",
   "execution_count": 6,
   "metadata": {
    "scrolled": true
   },
   "outputs": [
    {
     "data": {
      "text/plain": [
       "city\n",
       "SACRAMENTO         438\n",
       "ELK GROVE          114\n",
       "LINCOLN             72\n",
       "ROSEVILLE           48\n",
       "CITRUS HEIGHTS      35\n",
       "ANTELOPE            33\n",
       "RANCHO CORDOVA      28\n",
       "EL DORADO HILLS     23\n",
       "NORTH HIGHLANDS     21\n",
       "GALT                21\n",
       "CARMICHAEL          20\n",
       "ROCKLIN             17\n",
       "FOLSOM              17\n",
       "RIO LINDA           13\n",
       "ORANGEVALE          11\n",
       "PLACERVILLE         10\n",
       "CAMERON PARK         9\n",
       "FAIR OAKS            9\n",
       "WILTON               5\n",
       "AUBURN               5\n",
       "GOLD RIVER           4\n",
       "ELVERTA              4\n",
       "RANCHO MURIETA       3\n",
       "WEST SACRAMENTO      3\n",
       "GRANITE BAY          3\n",
       "POLLOCK PINES        3\n",
       "EL DORADO            2\n",
       "LOOMIS               2\n",
       "MATHER               1\n",
       "GREENWOOD            1\n",
       "MEADOW VISTA         1\n",
       "PENRYN               1\n",
       "FORESTHILL           1\n",
       "SHINGLE SPRINGS      1\n",
       "DIAMOND SPRINGS      1\n",
       "COOL                 1\n",
       "WALNUT GROVE         1\n",
       "GARDEN VALLEY        1\n",
       "SLOUGHHOUSE          1\n",
       "Name: count, dtype: int64"
      ]
     },
     "execution_count": 6,
     "metadata": {},
     "output_type": "execute_result"
    }
   ],
   "source": [
    "dataset['city'].value_counts()"
   ]
  },
  {
   "cell_type": "code",
   "execution_count": 7,
   "metadata": {},
   "outputs": [
    {
     "data": {
      "text/plain": [
       "street        object\n",
       "city          object\n",
       "zip            int64\n",
       "state         object\n",
       "beds           int64\n",
       "baths          int64\n",
       "sq__ft         int64\n",
       "type          object\n",
       "sale_date     object\n",
       "price          int64\n",
       "latitude     float64\n",
       "longitude    float64\n",
       "dtype: object"
      ]
     },
     "execution_count": 7,
     "metadata": {},
     "output_type": "execute_result"
    }
   ],
   "source": [
    "dataset.dtypes"
   ]
  },
  {
   "cell_type": "code",
   "execution_count": 8,
   "metadata": {
    "scrolled": true
   },
   "outputs": [
    {
     "data": {
      "text/html": [
       "<div>\n",
       "<style scoped>\n",
       "    .dataframe tbody tr th:only-of-type {\n",
       "        vertical-align: middle;\n",
       "    }\n",
       "\n",
       "    .dataframe tbody tr th {\n",
       "        vertical-align: top;\n",
       "    }\n",
       "\n",
       "    .dataframe thead th {\n",
       "        text-align: right;\n",
       "    }\n",
       "</style>\n",
       "<table border=\"1\" class=\"dataframe\">\n",
       "  <thead>\n",
       "    <tr style=\"text-align: right;\">\n",
       "      <th></th>\n",
       "      <th>street</th>\n",
       "      <th>zip</th>\n",
       "      <th>state</th>\n",
       "      <th>beds</th>\n",
       "      <th>baths</th>\n",
       "      <th>sq__ft</th>\n",
       "      <th>type</th>\n",
       "      <th>sale_date</th>\n",
       "      <th>price</th>\n",
       "      <th>latitude</th>\n",
       "      <th>...</th>\n",
       "      <th>city_RANCHO MURIETA</th>\n",
       "      <th>city_RIO LINDA</th>\n",
       "      <th>city_ROCKLIN</th>\n",
       "      <th>city_ROSEVILLE</th>\n",
       "      <th>city_SACRAMENTO</th>\n",
       "      <th>city_SHINGLE SPRINGS</th>\n",
       "      <th>city_SLOUGHHOUSE</th>\n",
       "      <th>city_WALNUT GROVE</th>\n",
       "      <th>city_WEST SACRAMENTO</th>\n",
       "      <th>city_WILTON</th>\n",
       "    </tr>\n",
       "  </thead>\n",
       "  <tbody>\n",
       "    <tr>\n",
       "      <th>0</th>\n",
       "      <td>3526 HIGH ST</td>\n",
       "      <td>95838</td>\n",
       "      <td>CA</td>\n",
       "      <td>2</td>\n",
       "      <td>1</td>\n",
       "      <td>836</td>\n",
       "      <td>Residential</td>\n",
       "      <td>Wed May 21 00:00:00 EDT 2008</td>\n",
       "      <td>59222</td>\n",
       "      <td>38.631913</td>\n",
       "      <td>...</td>\n",
       "      <td>False</td>\n",
       "      <td>False</td>\n",
       "      <td>False</td>\n",
       "      <td>False</td>\n",
       "      <td>True</td>\n",
       "      <td>False</td>\n",
       "      <td>False</td>\n",
       "      <td>False</td>\n",
       "      <td>False</td>\n",
       "      <td>False</td>\n",
       "    </tr>\n",
       "    <tr>\n",
       "      <th>1</th>\n",
       "      <td>51 OMAHA CT</td>\n",
       "      <td>95823</td>\n",
       "      <td>CA</td>\n",
       "      <td>3</td>\n",
       "      <td>1</td>\n",
       "      <td>1167</td>\n",
       "      <td>Residential</td>\n",
       "      <td>Wed May 21 00:00:00 EDT 2008</td>\n",
       "      <td>68212</td>\n",
       "      <td>38.478902</td>\n",
       "      <td>...</td>\n",
       "      <td>False</td>\n",
       "      <td>False</td>\n",
       "      <td>False</td>\n",
       "      <td>False</td>\n",
       "      <td>True</td>\n",
       "      <td>False</td>\n",
       "      <td>False</td>\n",
       "      <td>False</td>\n",
       "      <td>False</td>\n",
       "      <td>False</td>\n",
       "    </tr>\n",
       "    <tr>\n",
       "      <th>2</th>\n",
       "      <td>2796 BRANCH ST</td>\n",
       "      <td>95815</td>\n",
       "      <td>CA</td>\n",
       "      <td>2</td>\n",
       "      <td>1</td>\n",
       "      <td>796</td>\n",
       "      <td>Residential</td>\n",
       "      <td>Wed May 21 00:00:00 EDT 2008</td>\n",
       "      <td>68880</td>\n",
       "      <td>38.618305</td>\n",
       "      <td>...</td>\n",
       "      <td>False</td>\n",
       "      <td>False</td>\n",
       "      <td>False</td>\n",
       "      <td>False</td>\n",
       "      <td>True</td>\n",
       "      <td>False</td>\n",
       "      <td>False</td>\n",
       "      <td>False</td>\n",
       "      <td>False</td>\n",
       "      <td>False</td>\n",
       "    </tr>\n",
       "    <tr>\n",
       "      <th>3</th>\n",
       "      <td>2805 JANETTE WAY</td>\n",
       "      <td>95815</td>\n",
       "      <td>CA</td>\n",
       "      <td>2</td>\n",
       "      <td>1</td>\n",
       "      <td>852</td>\n",
       "      <td>Residential</td>\n",
       "      <td>Wed May 21 00:00:00 EDT 2008</td>\n",
       "      <td>69307</td>\n",
       "      <td>38.616835</td>\n",
       "      <td>...</td>\n",
       "      <td>False</td>\n",
       "      <td>False</td>\n",
       "      <td>False</td>\n",
       "      <td>False</td>\n",
       "      <td>True</td>\n",
       "      <td>False</td>\n",
       "      <td>False</td>\n",
       "      <td>False</td>\n",
       "      <td>False</td>\n",
       "      <td>False</td>\n",
       "    </tr>\n",
       "    <tr>\n",
       "      <th>4</th>\n",
       "      <td>6001 MCMAHON DR</td>\n",
       "      <td>95824</td>\n",
       "      <td>CA</td>\n",
       "      <td>2</td>\n",
       "      <td>1</td>\n",
       "      <td>797</td>\n",
       "      <td>Residential</td>\n",
       "      <td>Wed May 21 00:00:00 EDT 2008</td>\n",
       "      <td>81900</td>\n",
       "      <td>38.519470</td>\n",
       "      <td>...</td>\n",
       "      <td>False</td>\n",
       "      <td>False</td>\n",
       "      <td>False</td>\n",
       "      <td>False</td>\n",
       "      <td>True</td>\n",
       "      <td>False</td>\n",
       "      <td>False</td>\n",
       "      <td>False</td>\n",
       "      <td>False</td>\n",
       "      <td>False</td>\n",
       "    </tr>\n",
       "    <tr>\n",
       "      <th>...</th>\n",
       "      <td>...</td>\n",
       "      <td>...</td>\n",
       "      <td>...</td>\n",
       "      <td>...</td>\n",
       "      <td>...</td>\n",
       "      <td>...</td>\n",
       "      <td>...</td>\n",
       "      <td>...</td>\n",
       "      <td>...</td>\n",
       "      <td>...</td>\n",
       "      <td>...</td>\n",
       "      <td>...</td>\n",
       "      <td>...</td>\n",
       "      <td>...</td>\n",
       "      <td>...</td>\n",
       "      <td>...</td>\n",
       "      <td>...</td>\n",
       "      <td>...</td>\n",
       "      <td>...</td>\n",
       "      <td>...</td>\n",
       "      <td>...</td>\n",
       "    </tr>\n",
       "    <tr>\n",
       "      <th>980</th>\n",
       "      <td>9169 GARLINGTON CT</td>\n",
       "      <td>95829</td>\n",
       "      <td>CA</td>\n",
       "      <td>4</td>\n",
       "      <td>3</td>\n",
       "      <td>2280</td>\n",
       "      <td>Residential</td>\n",
       "      <td>Thu May 15 00:00:00 EDT 2008</td>\n",
       "      <td>232425</td>\n",
       "      <td>38.457679</td>\n",
       "      <td>...</td>\n",
       "      <td>False</td>\n",
       "      <td>False</td>\n",
       "      <td>False</td>\n",
       "      <td>False</td>\n",
       "      <td>True</td>\n",
       "      <td>False</td>\n",
       "      <td>False</td>\n",
       "      <td>False</td>\n",
       "      <td>False</td>\n",
       "      <td>False</td>\n",
       "    </tr>\n",
       "    <tr>\n",
       "      <th>981</th>\n",
       "      <td>6932 RUSKUT WAY</td>\n",
       "      <td>95823</td>\n",
       "      <td>CA</td>\n",
       "      <td>3</td>\n",
       "      <td>2</td>\n",
       "      <td>1477</td>\n",
       "      <td>Residential</td>\n",
       "      <td>Thu May 15 00:00:00 EDT 2008</td>\n",
       "      <td>234000</td>\n",
       "      <td>38.499893</td>\n",
       "      <td>...</td>\n",
       "      <td>False</td>\n",
       "      <td>False</td>\n",
       "      <td>False</td>\n",
       "      <td>False</td>\n",
       "      <td>True</td>\n",
       "      <td>False</td>\n",
       "      <td>False</td>\n",
       "      <td>False</td>\n",
       "      <td>False</td>\n",
       "      <td>False</td>\n",
       "    </tr>\n",
       "    <tr>\n",
       "      <th>982</th>\n",
       "      <td>7933 DAFFODIL WAY</td>\n",
       "      <td>95610</td>\n",
       "      <td>CA</td>\n",
       "      <td>3</td>\n",
       "      <td>2</td>\n",
       "      <td>1216</td>\n",
       "      <td>Residential</td>\n",
       "      <td>Thu May 15 00:00:00 EDT 2008</td>\n",
       "      <td>235000</td>\n",
       "      <td>38.708824</td>\n",
       "      <td>...</td>\n",
       "      <td>False</td>\n",
       "      <td>False</td>\n",
       "      <td>False</td>\n",
       "      <td>False</td>\n",
       "      <td>False</td>\n",
       "      <td>False</td>\n",
       "      <td>False</td>\n",
       "      <td>False</td>\n",
       "      <td>False</td>\n",
       "      <td>False</td>\n",
       "    </tr>\n",
       "    <tr>\n",
       "      <th>983</th>\n",
       "      <td>8304 RED FOX WAY</td>\n",
       "      <td>95758</td>\n",
       "      <td>CA</td>\n",
       "      <td>4</td>\n",
       "      <td>2</td>\n",
       "      <td>1685</td>\n",
       "      <td>Residential</td>\n",
       "      <td>Thu May 15 00:00:00 EDT 2008</td>\n",
       "      <td>235301</td>\n",
       "      <td>38.417000</td>\n",
       "      <td>...</td>\n",
       "      <td>False</td>\n",
       "      <td>False</td>\n",
       "      <td>False</td>\n",
       "      <td>False</td>\n",
       "      <td>False</td>\n",
       "      <td>False</td>\n",
       "      <td>False</td>\n",
       "      <td>False</td>\n",
       "      <td>False</td>\n",
       "      <td>False</td>\n",
       "    </tr>\n",
       "    <tr>\n",
       "      <th>984</th>\n",
       "      <td>3882 YELLOWSTONE LN</td>\n",
       "      <td>95762</td>\n",
       "      <td>CA</td>\n",
       "      <td>3</td>\n",
       "      <td>2</td>\n",
       "      <td>1362</td>\n",
       "      <td>Residential</td>\n",
       "      <td>Thu May 15 00:00:00 EDT 2008</td>\n",
       "      <td>235738</td>\n",
       "      <td>38.655245</td>\n",
       "      <td>...</td>\n",
       "      <td>False</td>\n",
       "      <td>False</td>\n",
       "      <td>False</td>\n",
       "      <td>False</td>\n",
       "      <td>False</td>\n",
       "      <td>False</td>\n",
       "      <td>False</td>\n",
       "      <td>False</td>\n",
       "      <td>False</td>\n",
       "      <td>False</td>\n",
       "    </tr>\n",
       "  </tbody>\n",
       "</table>\n",
       "<p>984 rows × 49 columns</p>\n",
       "</div>"
      ],
      "text/plain": [
       "                  street    zip state  beds  baths  sq__ft         type  \\\n",
       "0           3526 HIGH ST  95838    CA     2      1     836  Residential   \n",
       "1            51 OMAHA CT  95823    CA     3      1    1167  Residential   \n",
       "2         2796 BRANCH ST  95815    CA     2      1     796  Residential   \n",
       "3       2805 JANETTE WAY  95815    CA     2      1     852  Residential   \n",
       "4        6001 MCMAHON DR  95824    CA     2      1     797  Residential   \n",
       "..                   ...    ...   ...   ...    ...     ...          ...   \n",
       "980   9169 GARLINGTON CT  95829    CA     4      3    2280  Residential   \n",
       "981      6932 RUSKUT WAY  95823    CA     3      2    1477  Residential   \n",
       "982    7933 DAFFODIL WAY  95610    CA     3      2    1216  Residential   \n",
       "983     8304 RED FOX WAY  95758    CA     4      2    1685  Residential   \n",
       "984  3882 YELLOWSTONE LN  95762    CA     3      2    1362  Residential   \n",
       "\n",
       "                        sale_date   price   latitude  ...  \\\n",
       "0    Wed May 21 00:00:00 EDT 2008   59222  38.631913  ...   \n",
       "1    Wed May 21 00:00:00 EDT 2008   68212  38.478902  ...   \n",
       "2    Wed May 21 00:00:00 EDT 2008   68880  38.618305  ...   \n",
       "3    Wed May 21 00:00:00 EDT 2008   69307  38.616835  ...   \n",
       "4    Wed May 21 00:00:00 EDT 2008   81900  38.519470  ...   \n",
       "..                            ...     ...        ...  ...   \n",
       "980  Thu May 15 00:00:00 EDT 2008  232425  38.457679  ...   \n",
       "981  Thu May 15 00:00:00 EDT 2008  234000  38.499893  ...   \n",
       "982  Thu May 15 00:00:00 EDT 2008  235000  38.708824  ...   \n",
       "983  Thu May 15 00:00:00 EDT 2008  235301  38.417000  ...   \n",
       "984  Thu May 15 00:00:00 EDT 2008  235738  38.655245  ...   \n",
       "\n",
       "     city_RANCHO MURIETA  city_RIO LINDA  city_ROCKLIN  city_ROSEVILLE  \\\n",
       "0                  False           False         False           False   \n",
       "1                  False           False         False           False   \n",
       "2                  False           False         False           False   \n",
       "3                  False           False         False           False   \n",
       "4                  False           False         False           False   \n",
       "..                   ...             ...           ...             ...   \n",
       "980                False           False         False           False   \n",
       "981                False           False         False           False   \n",
       "982                False           False         False           False   \n",
       "983                False           False         False           False   \n",
       "984                False           False         False           False   \n",
       "\n",
       "     city_SACRAMENTO  city_SHINGLE SPRINGS  city_SLOUGHHOUSE  \\\n",
       "0               True                 False             False   \n",
       "1               True                 False             False   \n",
       "2               True                 False             False   \n",
       "3               True                 False             False   \n",
       "4               True                 False             False   \n",
       "..               ...                   ...               ...   \n",
       "980             True                 False             False   \n",
       "981             True                 False             False   \n",
       "982            False                 False             False   \n",
       "983            False                 False             False   \n",
       "984            False                 False             False   \n",
       "\n",
       "     city_WALNUT GROVE  city_WEST SACRAMENTO  city_WILTON  \n",
       "0                False                 False        False  \n",
       "1                False                 False        False  \n",
       "2                False                 False        False  \n",
       "3                False                 False        False  \n",
       "4                False                 False        False  \n",
       "..                 ...                   ...          ...  \n",
       "980              False                 False        False  \n",
       "981              False                 False        False  \n",
       "982              False                 False        False  \n",
       "983              False                 False        False  \n",
       "984              False                 False        False  \n",
       "\n",
       "[984 rows x 49 columns]"
      ]
     },
     "execution_count": 8,
     "metadata": {},
     "output_type": "execute_result"
    }
   ],
   "source": [
    "dataset_encoded = pd.get_dummies(dataset, columns=['city'], drop_first=True)\n",
    "dataset_encoded"
   ]
  },
  {
   "cell_type": "code",
   "execution_count": 9,
   "metadata": {},
   "outputs": [
    {
     "data": {
      "text/plain": [
       "Index(['street', 'zip', 'state', 'beds', 'baths', 'sq__ft', 'type',\n",
       "       'sale_date', 'price', 'latitude', 'longitude', 'city_AUBURN',\n",
       "       'city_CAMERON PARK', 'city_CARMICHAEL', 'city_CITRUS HEIGHTS',\n",
       "       'city_COOL', 'city_DIAMOND SPRINGS', 'city_EL DORADO',\n",
       "       'city_EL DORADO HILLS', 'city_ELK GROVE', 'city_ELVERTA',\n",
       "       'city_FAIR OAKS', 'city_FOLSOM', 'city_FORESTHILL', 'city_GALT',\n",
       "       'city_GARDEN VALLEY', 'city_GOLD RIVER', 'city_GRANITE BAY',\n",
       "       'city_GREENWOOD', 'city_LINCOLN', 'city_LOOMIS', 'city_MATHER',\n",
       "       'city_MEADOW VISTA', 'city_NORTH HIGHLANDS', 'city_ORANGEVALE',\n",
       "       'city_PENRYN', 'city_PLACERVILLE', 'city_POLLOCK PINES',\n",
       "       'city_RANCHO CORDOVA', 'city_RANCHO MURIETA', 'city_RIO LINDA',\n",
       "       'city_ROCKLIN', 'city_ROSEVILLE', 'city_SACRAMENTO',\n",
       "       'city_SHINGLE SPRINGS', 'city_SLOUGHHOUSE', 'city_WALNUT GROVE',\n",
       "       'city_WEST SACRAMENTO', 'city_WILTON'],\n",
       "      dtype='object')"
      ]
     },
     "execution_count": 9,
     "metadata": {},
     "output_type": "execute_result"
    }
   ],
   "source": [
    "dataset_encoded.columns"
   ]
  },
  {
   "cell_type": "code",
   "execution_count": 10,
   "metadata": {},
   "outputs": [
    {
     "data": {
      "text/plain": [
       "street\n",
       "1223 LAMBERTON CIR    2\n",
       "8306 CURLEW CT        2\n",
       "4734 14TH AVE         2\n",
       "7 CRYSTALWOOD CIR     2\n",
       "2805 JANETTE WAY      1\n",
       "                     ..\n",
       "9169 GARLINGTON CT    1\n",
       "6932 RUSKUT WAY       1\n",
       "7933 DAFFODIL WAY     1\n",
       "8304 RED FOX WAY      1\n",
       "51 OMAHA CT           1\n",
       "Name: count, Length: 980, dtype: int64"
      ]
     },
     "execution_count": 10,
     "metadata": {},
     "output_type": "execute_result"
    }
   ],
   "source": [
    "dataset_encoded['street'].value_counts()"
   ]
  },
  {
   "cell_type": "markdown",
   "metadata": {},
   "source": [
    "_**Fun Fact:** Zip codes often have leading zeros — e.g., 02215 = Boston, MA — which will often get knocked off automatically by many software programs like Python or Excel. You can imagine that this could create some issues. _"
   ]
  },
  {
   "cell_type": "code",
   "execution_count": 11,
   "metadata": {},
   "outputs": [
    {
     "data": {
      "text/html": [
       "<div>\n",
       "<style scoped>\n",
       "    .dataframe tbody tr th:only-of-type {\n",
       "        vertical-align: middle;\n",
       "    }\n",
       "\n",
       "    .dataframe tbody tr th {\n",
       "        vertical-align: top;\n",
       "    }\n",
       "\n",
       "    .dataframe thead th {\n",
       "        text-align: right;\n",
       "    }\n",
       "</style>\n",
       "<table border=\"1\" class=\"dataframe\">\n",
       "  <thead>\n",
       "    <tr style=\"text-align: right;\">\n",
       "      <th></th>\n",
       "      <th>zip</th>\n",
       "      <th>beds</th>\n",
       "      <th>baths</th>\n",
       "      <th>sq__ft</th>\n",
       "      <th>price</th>\n",
       "      <th>latitude</th>\n",
       "      <th>longitude</th>\n",
       "    </tr>\n",
       "  </thead>\n",
       "  <tbody>\n",
       "    <tr>\n",
       "      <th>count</th>\n",
       "      <td>984.000000</td>\n",
       "      <td>984.000000</td>\n",
       "      <td>984.000000</td>\n",
       "      <td>984.000000</td>\n",
       "      <td>984.000000</td>\n",
       "      <td>984.000000</td>\n",
       "      <td>984.000000</td>\n",
       "    </tr>\n",
       "    <tr>\n",
       "      <th>mean</th>\n",
       "      <td>95750.611789</td>\n",
       "      <td>2.913618</td>\n",
       "      <td>1.777439</td>\n",
       "      <td>1315.253049</td>\n",
       "      <td>234167.841463</td>\n",
       "      <td>38.607670</td>\n",
       "      <td>-121.355832</td>\n",
       "    </tr>\n",
       "    <tr>\n",
       "      <th>std</th>\n",
       "      <td>85.176913</td>\n",
       "      <td>1.307175</td>\n",
       "      <td>0.895484</td>\n",
       "      <td>853.416702</td>\n",
       "      <td>138434.220875</td>\n",
       "      <td>0.145494</td>\n",
       "      <td>0.138268</td>\n",
       "    </tr>\n",
       "    <tr>\n",
       "      <th>min</th>\n",
       "      <td>95603.000000</td>\n",
       "      <td>0.000000</td>\n",
       "      <td>0.000000</td>\n",
       "      <td>0.000000</td>\n",
       "      <td>1551.000000</td>\n",
       "      <td>38.241514</td>\n",
       "      <td>-121.551704</td>\n",
       "    </tr>\n",
       "    <tr>\n",
       "      <th>25%</th>\n",
       "      <td>95660.000000</td>\n",
       "      <td>2.000000</td>\n",
       "      <td>1.000000</td>\n",
       "      <td>951.500000</td>\n",
       "      <td>145000.000000</td>\n",
       "      <td>38.482714</td>\n",
       "      <td>-121.446121</td>\n",
       "    </tr>\n",
       "    <tr>\n",
       "      <th>50%</th>\n",
       "      <td>95762.000000</td>\n",
       "      <td>3.000000</td>\n",
       "      <td>2.000000</td>\n",
       "      <td>1304.000000</td>\n",
       "      <td>214375.000000</td>\n",
       "      <td>38.626257</td>\n",
       "      <td>-121.376010</td>\n",
       "    </tr>\n",
       "    <tr>\n",
       "      <th>75%</th>\n",
       "      <td>95828.000000</td>\n",
       "      <td>4.000000</td>\n",
       "      <td>2.000000</td>\n",
       "      <td>1718.500000</td>\n",
       "      <td>300000.000000</td>\n",
       "      <td>38.695611</td>\n",
       "      <td>-121.295557</td>\n",
       "    </tr>\n",
       "    <tr>\n",
       "      <th>max</th>\n",
       "      <td>95864.000000</td>\n",
       "      <td>8.000000</td>\n",
       "      <td>5.000000</td>\n",
       "      <td>5822.000000</td>\n",
       "      <td>884790.000000</td>\n",
       "      <td>39.020808</td>\n",
       "      <td>-120.597599</td>\n",
       "    </tr>\n",
       "  </tbody>\n",
       "</table>\n",
       "</div>"
      ],
      "text/plain": [
       "                zip        beds       baths       sq__ft          price  \\\n",
       "count    984.000000  984.000000  984.000000   984.000000     984.000000   \n",
       "mean   95750.611789    2.913618    1.777439  1315.253049  234167.841463   \n",
       "std       85.176913    1.307175    0.895484   853.416702  138434.220875   \n",
       "min    95603.000000    0.000000    0.000000     0.000000    1551.000000   \n",
       "25%    95660.000000    2.000000    1.000000   951.500000  145000.000000   \n",
       "50%    95762.000000    3.000000    2.000000  1304.000000  214375.000000   \n",
       "75%    95828.000000    4.000000    2.000000  1718.500000  300000.000000   \n",
       "max    95864.000000    8.000000    5.000000  5822.000000  884790.000000   \n",
       "\n",
       "         latitude   longitude  \n",
       "count  984.000000  984.000000  \n",
       "mean    38.607670 -121.355832  \n",
       "std      0.145494    0.138268  \n",
       "min     38.241514 -121.551704  \n",
       "25%     38.482714 -121.446121  \n",
       "50%     38.626257 -121.376010  \n",
       "75%     38.695611 -121.295557  \n",
       "max     39.020808 -120.597599  "
      ]
     },
     "execution_count": 11,
     "metadata": {},
     "output_type": "execute_result"
    }
   ],
   "source": [
    "# Check out the summary statistics:\n",
    "dataset_encoded.describe()"
   ]
  },
  {
   "cell_type": "code",
   "execution_count": 12,
   "metadata": {},
   "outputs": [],
   "source": [
    "# Drop rows where type is 'Unkown'\n",
    "dataset_encoded = dataset_encoded[dataset_encoded['type'] != 'Unkown']"
   ]
  },
  {
   "cell_type": "code",
   "execution_count": 13,
   "metadata": {},
   "outputs": [
    {
     "name": "stderr",
     "output_type": "stream",
     "text": [
      "C:\\Users\\TEMP.DESKTOP-SC7NPT3\\AppData\\Local\\Temp\\ipykernel_15512\\2025873129.py:2: SettingWithCopyWarning: \n",
      "A value is trying to be set on a copy of a slice from a DataFrame.\n",
      "Try using .loc[row_indexer,col_indexer] = value instead\n",
      "\n",
      "See the caveats in the documentation: https://pandas.pydata.org/pandas-docs/stable/user_guide/indexing.html#returning-a-view-versus-a-copy\n",
      "  dataset_encoded['type_num'] = dataset_encoded['type'].map(type_map)\n"
     ]
    }
   ],
   "source": [
    "type_map = {'Multi-Family': 3, 'Condo': 2, 'Residential': 1}\n",
    "dataset_encoded['type_num'] = dataset_encoded['type'].map(type_map)"
   ]
  },
  {
   "cell_type": "code",
   "execution_count": 14,
   "metadata": {},
   "outputs": [
    {
     "data": {
      "text/plain": [
       "type_num\n",
       "1    917\n",
       "2     53\n",
       "3     13\n",
       "Name: count, dtype: int64"
      ]
     },
     "execution_count": 14,
     "metadata": {},
     "output_type": "execute_result"
    }
   ],
   "source": [
    "dataset_encoded['type_num'].value_counts()"
   ]
  },
  {
   "cell_type": "code",
   "execution_count": 15,
   "metadata": {},
   "outputs": [
    {
     "data": {
      "text/plain": [
       "0      1\n",
       "1      1\n",
       "2      1\n",
       "3      1\n",
       "4      1\n",
       "      ..\n",
       "980    1\n",
       "981    1\n",
       "982    1\n",
       "983    1\n",
       "984    1\n",
       "Name: type_num, Length: 983, dtype: int64"
      ]
     },
     "execution_count": 15,
     "metadata": {},
     "output_type": "execute_result"
    }
   ],
   "source": [
    "dataset_encoded['type_num']"
   ]
  },
  {
   "cell_type": "code",
   "execution_count": 16,
   "metadata": {
    "scrolled": true
   },
   "outputs": [
    {
     "data": {
      "text/html": [
       "<div>\n",
       "<style scoped>\n",
       "    .dataframe tbody tr th:only-of-type {\n",
       "        vertical-align: middle;\n",
       "    }\n",
       "\n",
       "    .dataframe tbody tr th {\n",
       "        vertical-align: top;\n",
       "    }\n",
       "\n",
       "    .dataframe thead th {\n",
       "        text-align: right;\n",
       "    }\n",
       "</style>\n",
       "<table border=\"1\" class=\"dataframe\">\n",
       "  <thead>\n",
       "    <tr style=\"text-align: right;\">\n",
       "      <th></th>\n",
       "      <th>street</th>\n",
       "      <th>zip</th>\n",
       "      <th>state</th>\n",
       "      <th>beds</th>\n",
       "      <th>baths</th>\n",
       "      <th>sq__ft</th>\n",
       "      <th>type</th>\n",
       "      <th>sale_date</th>\n",
       "      <th>price</th>\n",
       "      <th>latitude</th>\n",
       "      <th>...</th>\n",
       "      <th>city_RIO LINDA</th>\n",
       "      <th>city_ROCKLIN</th>\n",
       "      <th>city_ROSEVILLE</th>\n",
       "      <th>city_SACRAMENTO</th>\n",
       "      <th>city_SHINGLE SPRINGS</th>\n",
       "      <th>city_SLOUGHHOUSE</th>\n",
       "      <th>city_WALNUT GROVE</th>\n",
       "      <th>city_WEST SACRAMENTO</th>\n",
       "      <th>city_WILTON</th>\n",
       "      <th>type_num</th>\n",
       "    </tr>\n",
       "  </thead>\n",
       "  <tbody>\n",
       "    <tr>\n",
       "      <th>0</th>\n",
       "      <td>3526 HIGH ST</td>\n",
       "      <td>95838</td>\n",
       "      <td>CA</td>\n",
       "      <td>2</td>\n",
       "      <td>1</td>\n",
       "      <td>836</td>\n",
       "      <td>Residential</td>\n",
       "      <td>Wed May 21 00:00:00 EDT 2008</td>\n",
       "      <td>59222</td>\n",
       "      <td>38.631913</td>\n",
       "      <td>...</td>\n",
       "      <td>False</td>\n",
       "      <td>False</td>\n",
       "      <td>False</td>\n",
       "      <td>True</td>\n",
       "      <td>False</td>\n",
       "      <td>False</td>\n",
       "      <td>False</td>\n",
       "      <td>False</td>\n",
       "      <td>False</td>\n",
       "      <td>1</td>\n",
       "    </tr>\n",
       "    <tr>\n",
       "      <th>1</th>\n",
       "      <td>51 OMAHA CT</td>\n",
       "      <td>95823</td>\n",
       "      <td>CA</td>\n",
       "      <td>3</td>\n",
       "      <td>1</td>\n",
       "      <td>1167</td>\n",
       "      <td>Residential</td>\n",
       "      <td>Wed May 21 00:00:00 EDT 2008</td>\n",
       "      <td>68212</td>\n",
       "      <td>38.478902</td>\n",
       "      <td>...</td>\n",
       "      <td>False</td>\n",
       "      <td>False</td>\n",
       "      <td>False</td>\n",
       "      <td>True</td>\n",
       "      <td>False</td>\n",
       "      <td>False</td>\n",
       "      <td>False</td>\n",
       "      <td>False</td>\n",
       "      <td>False</td>\n",
       "      <td>1</td>\n",
       "    </tr>\n",
       "    <tr>\n",
       "      <th>2</th>\n",
       "      <td>2796 BRANCH ST</td>\n",
       "      <td>95815</td>\n",
       "      <td>CA</td>\n",
       "      <td>2</td>\n",
       "      <td>1</td>\n",
       "      <td>796</td>\n",
       "      <td>Residential</td>\n",
       "      <td>Wed May 21 00:00:00 EDT 2008</td>\n",
       "      <td>68880</td>\n",
       "      <td>38.618305</td>\n",
       "      <td>...</td>\n",
       "      <td>False</td>\n",
       "      <td>False</td>\n",
       "      <td>False</td>\n",
       "      <td>True</td>\n",
       "      <td>False</td>\n",
       "      <td>False</td>\n",
       "      <td>False</td>\n",
       "      <td>False</td>\n",
       "      <td>False</td>\n",
       "      <td>1</td>\n",
       "    </tr>\n",
       "    <tr>\n",
       "      <th>3</th>\n",
       "      <td>2805 JANETTE WAY</td>\n",
       "      <td>95815</td>\n",
       "      <td>CA</td>\n",
       "      <td>2</td>\n",
       "      <td>1</td>\n",
       "      <td>852</td>\n",
       "      <td>Residential</td>\n",
       "      <td>Wed May 21 00:00:00 EDT 2008</td>\n",
       "      <td>69307</td>\n",
       "      <td>38.616835</td>\n",
       "      <td>...</td>\n",
       "      <td>False</td>\n",
       "      <td>False</td>\n",
       "      <td>False</td>\n",
       "      <td>True</td>\n",
       "      <td>False</td>\n",
       "      <td>False</td>\n",
       "      <td>False</td>\n",
       "      <td>False</td>\n",
       "      <td>False</td>\n",
       "      <td>1</td>\n",
       "    </tr>\n",
       "    <tr>\n",
       "      <th>4</th>\n",
       "      <td>6001 MCMAHON DR</td>\n",
       "      <td>95824</td>\n",
       "      <td>CA</td>\n",
       "      <td>2</td>\n",
       "      <td>1</td>\n",
       "      <td>797</td>\n",
       "      <td>Residential</td>\n",
       "      <td>Wed May 21 00:00:00 EDT 2008</td>\n",
       "      <td>81900</td>\n",
       "      <td>38.519470</td>\n",
       "      <td>...</td>\n",
       "      <td>False</td>\n",
       "      <td>False</td>\n",
       "      <td>False</td>\n",
       "      <td>True</td>\n",
       "      <td>False</td>\n",
       "      <td>False</td>\n",
       "      <td>False</td>\n",
       "      <td>False</td>\n",
       "      <td>False</td>\n",
       "      <td>1</td>\n",
       "    </tr>\n",
       "    <tr>\n",
       "      <th>...</th>\n",
       "      <td>...</td>\n",
       "      <td>...</td>\n",
       "      <td>...</td>\n",
       "      <td>...</td>\n",
       "      <td>...</td>\n",
       "      <td>...</td>\n",
       "      <td>...</td>\n",
       "      <td>...</td>\n",
       "      <td>...</td>\n",
       "      <td>...</td>\n",
       "      <td>...</td>\n",
       "      <td>...</td>\n",
       "      <td>...</td>\n",
       "      <td>...</td>\n",
       "      <td>...</td>\n",
       "      <td>...</td>\n",
       "      <td>...</td>\n",
       "      <td>...</td>\n",
       "      <td>...</td>\n",
       "      <td>...</td>\n",
       "      <td>...</td>\n",
       "    </tr>\n",
       "    <tr>\n",
       "      <th>980</th>\n",
       "      <td>9169 GARLINGTON CT</td>\n",
       "      <td>95829</td>\n",
       "      <td>CA</td>\n",
       "      <td>4</td>\n",
       "      <td>3</td>\n",
       "      <td>2280</td>\n",
       "      <td>Residential</td>\n",
       "      <td>Thu May 15 00:00:00 EDT 2008</td>\n",
       "      <td>232425</td>\n",
       "      <td>38.457679</td>\n",
       "      <td>...</td>\n",
       "      <td>False</td>\n",
       "      <td>False</td>\n",
       "      <td>False</td>\n",
       "      <td>True</td>\n",
       "      <td>False</td>\n",
       "      <td>False</td>\n",
       "      <td>False</td>\n",
       "      <td>False</td>\n",
       "      <td>False</td>\n",
       "      <td>1</td>\n",
       "    </tr>\n",
       "    <tr>\n",
       "      <th>981</th>\n",
       "      <td>6932 RUSKUT WAY</td>\n",
       "      <td>95823</td>\n",
       "      <td>CA</td>\n",
       "      <td>3</td>\n",
       "      <td>2</td>\n",
       "      <td>1477</td>\n",
       "      <td>Residential</td>\n",
       "      <td>Thu May 15 00:00:00 EDT 2008</td>\n",
       "      <td>234000</td>\n",
       "      <td>38.499893</td>\n",
       "      <td>...</td>\n",
       "      <td>False</td>\n",
       "      <td>False</td>\n",
       "      <td>False</td>\n",
       "      <td>True</td>\n",
       "      <td>False</td>\n",
       "      <td>False</td>\n",
       "      <td>False</td>\n",
       "      <td>False</td>\n",
       "      <td>False</td>\n",
       "      <td>1</td>\n",
       "    </tr>\n",
       "    <tr>\n",
       "      <th>982</th>\n",
       "      <td>7933 DAFFODIL WAY</td>\n",
       "      <td>95610</td>\n",
       "      <td>CA</td>\n",
       "      <td>3</td>\n",
       "      <td>2</td>\n",
       "      <td>1216</td>\n",
       "      <td>Residential</td>\n",
       "      <td>Thu May 15 00:00:00 EDT 2008</td>\n",
       "      <td>235000</td>\n",
       "      <td>38.708824</td>\n",
       "      <td>...</td>\n",
       "      <td>False</td>\n",
       "      <td>False</td>\n",
       "      <td>False</td>\n",
       "      <td>False</td>\n",
       "      <td>False</td>\n",
       "      <td>False</td>\n",
       "      <td>False</td>\n",
       "      <td>False</td>\n",
       "      <td>False</td>\n",
       "      <td>1</td>\n",
       "    </tr>\n",
       "    <tr>\n",
       "      <th>983</th>\n",
       "      <td>8304 RED FOX WAY</td>\n",
       "      <td>95758</td>\n",
       "      <td>CA</td>\n",
       "      <td>4</td>\n",
       "      <td>2</td>\n",
       "      <td>1685</td>\n",
       "      <td>Residential</td>\n",
       "      <td>Thu May 15 00:00:00 EDT 2008</td>\n",
       "      <td>235301</td>\n",
       "      <td>38.417000</td>\n",
       "      <td>...</td>\n",
       "      <td>False</td>\n",
       "      <td>False</td>\n",
       "      <td>False</td>\n",
       "      <td>False</td>\n",
       "      <td>False</td>\n",
       "      <td>False</td>\n",
       "      <td>False</td>\n",
       "      <td>False</td>\n",
       "      <td>False</td>\n",
       "      <td>1</td>\n",
       "    </tr>\n",
       "    <tr>\n",
       "      <th>984</th>\n",
       "      <td>3882 YELLOWSTONE LN</td>\n",
       "      <td>95762</td>\n",
       "      <td>CA</td>\n",
       "      <td>3</td>\n",
       "      <td>2</td>\n",
       "      <td>1362</td>\n",
       "      <td>Residential</td>\n",
       "      <td>Thu May 15 00:00:00 EDT 2008</td>\n",
       "      <td>235738</td>\n",
       "      <td>38.655245</td>\n",
       "      <td>...</td>\n",
       "      <td>False</td>\n",
       "      <td>False</td>\n",
       "      <td>False</td>\n",
       "      <td>False</td>\n",
       "      <td>False</td>\n",
       "      <td>False</td>\n",
       "      <td>False</td>\n",
       "      <td>False</td>\n",
       "      <td>False</td>\n",
       "      <td>1</td>\n",
       "    </tr>\n",
       "  </tbody>\n",
       "</table>\n",
       "<p>983 rows × 50 columns</p>\n",
       "</div>"
      ],
      "text/plain": [
       "                  street    zip state  beds  baths  sq__ft         type  \\\n",
       "0           3526 HIGH ST  95838    CA     2      1     836  Residential   \n",
       "1            51 OMAHA CT  95823    CA     3      1    1167  Residential   \n",
       "2         2796 BRANCH ST  95815    CA     2      1     796  Residential   \n",
       "3       2805 JANETTE WAY  95815    CA     2      1     852  Residential   \n",
       "4        6001 MCMAHON DR  95824    CA     2      1     797  Residential   \n",
       "..                   ...    ...   ...   ...    ...     ...          ...   \n",
       "980   9169 GARLINGTON CT  95829    CA     4      3    2280  Residential   \n",
       "981      6932 RUSKUT WAY  95823    CA     3      2    1477  Residential   \n",
       "982    7933 DAFFODIL WAY  95610    CA     3      2    1216  Residential   \n",
       "983     8304 RED FOX WAY  95758    CA     4      2    1685  Residential   \n",
       "984  3882 YELLOWSTONE LN  95762    CA     3      2    1362  Residential   \n",
       "\n",
       "                        sale_date   price   latitude  ...  city_RIO LINDA  \\\n",
       "0    Wed May 21 00:00:00 EDT 2008   59222  38.631913  ...           False   \n",
       "1    Wed May 21 00:00:00 EDT 2008   68212  38.478902  ...           False   \n",
       "2    Wed May 21 00:00:00 EDT 2008   68880  38.618305  ...           False   \n",
       "3    Wed May 21 00:00:00 EDT 2008   69307  38.616835  ...           False   \n",
       "4    Wed May 21 00:00:00 EDT 2008   81900  38.519470  ...           False   \n",
       "..                            ...     ...        ...  ...             ...   \n",
       "980  Thu May 15 00:00:00 EDT 2008  232425  38.457679  ...           False   \n",
       "981  Thu May 15 00:00:00 EDT 2008  234000  38.499893  ...           False   \n",
       "982  Thu May 15 00:00:00 EDT 2008  235000  38.708824  ...           False   \n",
       "983  Thu May 15 00:00:00 EDT 2008  235301  38.417000  ...           False   \n",
       "984  Thu May 15 00:00:00 EDT 2008  235738  38.655245  ...           False   \n",
       "\n",
       "     city_ROCKLIN  city_ROSEVILLE  city_SACRAMENTO  city_SHINGLE SPRINGS  \\\n",
       "0           False           False             True                 False   \n",
       "1           False           False             True                 False   \n",
       "2           False           False             True                 False   \n",
       "3           False           False             True                 False   \n",
       "4           False           False             True                 False   \n",
       "..            ...             ...              ...                   ...   \n",
       "980         False           False             True                 False   \n",
       "981         False           False             True                 False   \n",
       "982         False           False            False                 False   \n",
       "983         False           False            False                 False   \n",
       "984         False           False            False                 False   \n",
       "\n",
       "     city_SLOUGHHOUSE  city_WALNUT GROVE  city_WEST SACRAMENTO  city_WILTON  \\\n",
       "0               False              False                 False        False   \n",
       "1               False              False                 False        False   \n",
       "2               False              False                 False        False   \n",
       "3               False              False                 False        False   \n",
       "4               False              False                 False        False   \n",
       "..                ...                ...                   ...          ...   \n",
       "980             False              False                 False        False   \n",
       "981             False              False                 False        False   \n",
       "982             False              False                 False        False   \n",
       "983             False              False                 False        False   \n",
       "984             False              False                 False        False   \n",
       "\n",
       "     type_num  \n",
       "0           1  \n",
       "1           1  \n",
       "2           1  \n",
       "3           1  \n",
       "4           1  \n",
       "..        ...  \n",
       "980         1  \n",
       "981         1  \n",
       "982         1  \n",
       "983         1  \n",
       "984         1  \n",
       "\n",
       "[983 rows x 50 columns]"
      ]
     },
     "execution_count": 16,
     "metadata": {},
     "output_type": "execute_result"
    }
   ],
   "source": [
    "dataset_encoded"
   ]
  },
  {
   "cell_type": "code",
   "execution_count": 17,
   "metadata": {
    "scrolled": true
   },
   "outputs": [],
   "source": [
    "# What could explain the houses with 0 bedrooms?\n",
    "dataset_encoded = dataset_encoded[dataset_encoded['sq__ft'] != 0]"
   ]
  },
  {
   "cell_type": "code",
   "execution_count": 18,
   "metadata": {
    "scrolled": true
   },
   "outputs": [
    {
     "data": {
      "text/html": [
       "<div>\n",
       "<style scoped>\n",
       "    .dataframe tbody tr th:only-of-type {\n",
       "        vertical-align: middle;\n",
       "    }\n",
       "\n",
       "    .dataframe tbody tr th {\n",
       "        vertical-align: top;\n",
       "    }\n",
       "\n",
       "    .dataframe thead th {\n",
       "        text-align: right;\n",
       "    }\n",
       "</style>\n",
       "<table border=\"1\" class=\"dataframe\">\n",
       "  <thead>\n",
       "    <tr style=\"text-align: right;\">\n",
       "      <th></th>\n",
       "      <th>street</th>\n",
       "      <th>zip</th>\n",
       "      <th>state</th>\n",
       "      <th>beds</th>\n",
       "      <th>baths</th>\n",
       "      <th>sq__ft</th>\n",
       "      <th>type</th>\n",
       "      <th>sale_date</th>\n",
       "      <th>price</th>\n",
       "      <th>latitude</th>\n",
       "      <th>...</th>\n",
       "      <th>city_RIO LINDA</th>\n",
       "      <th>city_ROCKLIN</th>\n",
       "      <th>city_ROSEVILLE</th>\n",
       "      <th>city_SACRAMENTO</th>\n",
       "      <th>city_SHINGLE SPRINGS</th>\n",
       "      <th>city_SLOUGHHOUSE</th>\n",
       "      <th>city_WALNUT GROVE</th>\n",
       "      <th>city_WEST SACRAMENTO</th>\n",
       "      <th>city_WILTON</th>\n",
       "      <th>type_num</th>\n",
       "    </tr>\n",
       "  </thead>\n",
       "  <tbody>\n",
       "    <tr>\n",
       "      <th>0</th>\n",
       "      <td>3526 HIGH ST</td>\n",
       "      <td>95838</td>\n",
       "      <td>CA</td>\n",
       "      <td>2</td>\n",
       "      <td>1</td>\n",
       "      <td>836</td>\n",
       "      <td>Residential</td>\n",
       "      <td>Wed May 21 00:00:00 EDT 2008</td>\n",
       "      <td>59222</td>\n",
       "      <td>38.631913</td>\n",
       "      <td>...</td>\n",
       "      <td>False</td>\n",
       "      <td>False</td>\n",
       "      <td>False</td>\n",
       "      <td>True</td>\n",
       "      <td>False</td>\n",
       "      <td>False</td>\n",
       "      <td>False</td>\n",
       "      <td>False</td>\n",
       "      <td>False</td>\n",
       "      <td>1</td>\n",
       "    </tr>\n",
       "    <tr>\n",
       "      <th>1</th>\n",
       "      <td>51 OMAHA CT</td>\n",
       "      <td>95823</td>\n",
       "      <td>CA</td>\n",
       "      <td>3</td>\n",
       "      <td>1</td>\n",
       "      <td>1167</td>\n",
       "      <td>Residential</td>\n",
       "      <td>Wed May 21 00:00:00 EDT 2008</td>\n",
       "      <td>68212</td>\n",
       "      <td>38.478902</td>\n",
       "      <td>...</td>\n",
       "      <td>False</td>\n",
       "      <td>False</td>\n",
       "      <td>False</td>\n",
       "      <td>True</td>\n",
       "      <td>False</td>\n",
       "      <td>False</td>\n",
       "      <td>False</td>\n",
       "      <td>False</td>\n",
       "      <td>False</td>\n",
       "      <td>1</td>\n",
       "    </tr>\n",
       "    <tr>\n",
       "      <th>2</th>\n",
       "      <td>2796 BRANCH ST</td>\n",
       "      <td>95815</td>\n",
       "      <td>CA</td>\n",
       "      <td>2</td>\n",
       "      <td>1</td>\n",
       "      <td>796</td>\n",
       "      <td>Residential</td>\n",
       "      <td>Wed May 21 00:00:00 EDT 2008</td>\n",
       "      <td>68880</td>\n",
       "      <td>38.618305</td>\n",
       "      <td>...</td>\n",
       "      <td>False</td>\n",
       "      <td>False</td>\n",
       "      <td>False</td>\n",
       "      <td>True</td>\n",
       "      <td>False</td>\n",
       "      <td>False</td>\n",
       "      <td>False</td>\n",
       "      <td>False</td>\n",
       "      <td>False</td>\n",
       "      <td>1</td>\n",
       "    </tr>\n",
       "    <tr>\n",
       "      <th>3</th>\n",
       "      <td>2805 JANETTE WAY</td>\n",
       "      <td>95815</td>\n",
       "      <td>CA</td>\n",
       "      <td>2</td>\n",
       "      <td>1</td>\n",
       "      <td>852</td>\n",
       "      <td>Residential</td>\n",
       "      <td>Wed May 21 00:00:00 EDT 2008</td>\n",
       "      <td>69307</td>\n",
       "      <td>38.616835</td>\n",
       "      <td>...</td>\n",
       "      <td>False</td>\n",
       "      <td>False</td>\n",
       "      <td>False</td>\n",
       "      <td>True</td>\n",
       "      <td>False</td>\n",
       "      <td>False</td>\n",
       "      <td>False</td>\n",
       "      <td>False</td>\n",
       "      <td>False</td>\n",
       "      <td>1</td>\n",
       "    </tr>\n",
       "    <tr>\n",
       "      <th>4</th>\n",
       "      <td>6001 MCMAHON DR</td>\n",
       "      <td>95824</td>\n",
       "      <td>CA</td>\n",
       "      <td>2</td>\n",
       "      <td>1</td>\n",
       "      <td>797</td>\n",
       "      <td>Residential</td>\n",
       "      <td>Wed May 21 00:00:00 EDT 2008</td>\n",
       "      <td>81900</td>\n",
       "      <td>38.519470</td>\n",
       "      <td>...</td>\n",
       "      <td>False</td>\n",
       "      <td>False</td>\n",
       "      <td>False</td>\n",
       "      <td>True</td>\n",
       "      <td>False</td>\n",
       "      <td>False</td>\n",
       "      <td>False</td>\n",
       "      <td>False</td>\n",
       "      <td>False</td>\n",
       "      <td>1</td>\n",
       "    </tr>\n",
       "    <tr>\n",
       "      <th>...</th>\n",
       "      <td>...</td>\n",
       "      <td>...</td>\n",
       "      <td>...</td>\n",
       "      <td>...</td>\n",
       "      <td>...</td>\n",
       "      <td>...</td>\n",
       "      <td>...</td>\n",
       "      <td>...</td>\n",
       "      <td>...</td>\n",
       "      <td>...</td>\n",
       "      <td>...</td>\n",
       "      <td>...</td>\n",
       "      <td>...</td>\n",
       "      <td>...</td>\n",
       "      <td>...</td>\n",
       "      <td>...</td>\n",
       "      <td>...</td>\n",
       "      <td>...</td>\n",
       "      <td>...</td>\n",
       "      <td>...</td>\n",
       "      <td>...</td>\n",
       "    </tr>\n",
       "    <tr>\n",
       "      <th>980</th>\n",
       "      <td>9169 GARLINGTON CT</td>\n",
       "      <td>95829</td>\n",
       "      <td>CA</td>\n",
       "      <td>4</td>\n",
       "      <td>3</td>\n",
       "      <td>2280</td>\n",
       "      <td>Residential</td>\n",
       "      <td>Thu May 15 00:00:00 EDT 2008</td>\n",
       "      <td>232425</td>\n",
       "      <td>38.457679</td>\n",
       "      <td>...</td>\n",
       "      <td>False</td>\n",
       "      <td>False</td>\n",
       "      <td>False</td>\n",
       "      <td>True</td>\n",
       "      <td>False</td>\n",
       "      <td>False</td>\n",
       "      <td>False</td>\n",
       "      <td>False</td>\n",
       "      <td>False</td>\n",
       "      <td>1</td>\n",
       "    </tr>\n",
       "    <tr>\n",
       "      <th>981</th>\n",
       "      <td>6932 RUSKUT WAY</td>\n",
       "      <td>95823</td>\n",
       "      <td>CA</td>\n",
       "      <td>3</td>\n",
       "      <td>2</td>\n",
       "      <td>1477</td>\n",
       "      <td>Residential</td>\n",
       "      <td>Thu May 15 00:00:00 EDT 2008</td>\n",
       "      <td>234000</td>\n",
       "      <td>38.499893</td>\n",
       "      <td>...</td>\n",
       "      <td>False</td>\n",
       "      <td>False</td>\n",
       "      <td>False</td>\n",
       "      <td>True</td>\n",
       "      <td>False</td>\n",
       "      <td>False</td>\n",
       "      <td>False</td>\n",
       "      <td>False</td>\n",
       "      <td>False</td>\n",
       "      <td>1</td>\n",
       "    </tr>\n",
       "    <tr>\n",
       "      <th>982</th>\n",
       "      <td>7933 DAFFODIL WAY</td>\n",
       "      <td>95610</td>\n",
       "      <td>CA</td>\n",
       "      <td>3</td>\n",
       "      <td>2</td>\n",
       "      <td>1216</td>\n",
       "      <td>Residential</td>\n",
       "      <td>Thu May 15 00:00:00 EDT 2008</td>\n",
       "      <td>235000</td>\n",
       "      <td>38.708824</td>\n",
       "      <td>...</td>\n",
       "      <td>False</td>\n",
       "      <td>False</td>\n",
       "      <td>False</td>\n",
       "      <td>False</td>\n",
       "      <td>False</td>\n",
       "      <td>False</td>\n",
       "      <td>False</td>\n",
       "      <td>False</td>\n",
       "      <td>False</td>\n",
       "      <td>1</td>\n",
       "    </tr>\n",
       "    <tr>\n",
       "      <th>983</th>\n",
       "      <td>8304 RED FOX WAY</td>\n",
       "      <td>95758</td>\n",
       "      <td>CA</td>\n",
       "      <td>4</td>\n",
       "      <td>2</td>\n",
       "      <td>1685</td>\n",
       "      <td>Residential</td>\n",
       "      <td>Thu May 15 00:00:00 EDT 2008</td>\n",
       "      <td>235301</td>\n",
       "      <td>38.417000</td>\n",
       "      <td>...</td>\n",
       "      <td>False</td>\n",
       "      <td>False</td>\n",
       "      <td>False</td>\n",
       "      <td>False</td>\n",
       "      <td>False</td>\n",
       "      <td>False</td>\n",
       "      <td>False</td>\n",
       "      <td>False</td>\n",
       "      <td>False</td>\n",
       "      <td>1</td>\n",
       "    </tr>\n",
       "    <tr>\n",
       "      <th>984</th>\n",
       "      <td>3882 YELLOWSTONE LN</td>\n",
       "      <td>95762</td>\n",
       "      <td>CA</td>\n",
       "      <td>3</td>\n",
       "      <td>2</td>\n",
       "      <td>1362</td>\n",
       "      <td>Residential</td>\n",
       "      <td>Thu May 15 00:00:00 EDT 2008</td>\n",
       "      <td>235738</td>\n",
       "      <td>38.655245</td>\n",
       "      <td>...</td>\n",
       "      <td>False</td>\n",
       "      <td>False</td>\n",
       "      <td>False</td>\n",
       "      <td>False</td>\n",
       "      <td>False</td>\n",
       "      <td>False</td>\n",
       "      <td>False</td>\n",
       "      <td>False</td>\n",
       "      <td>False</td>\n",
       "      <td>1</td>\n",
       "    </tr>\n",
       "  </tbody>\n",
       "</table>\n",
       "<p>813 rows × 50 columns</p>\n",
       "</div>"
      ],
      "text/plain": [
       "                  street    zip state  beds  baths  sq__ft         type  \\\n",
       "0           3526 HIGH ST  95838    CA     2      1     836  Residential   \n",
       "1            51 OMAHA CT  95823    CA     3      1    1167  Residential   \n",
       "2         2796 BRANCH ST  95815    CA     2      1     796  Residential   \n",
       "3       2805 JANETTE WAY  95815    CA     2      1     852  Residential   \n",
       "4        6001 MCMAHON DR  95824    CA     2      1     797  Residential   \n",
       "..                   ...    ...   ...   ...    ...     ...          ...   \n",
       "980   9169 GARLINGTON CT  95829    CA     4      3    2280  Residential   \n",
       "981      6932 RUSKUT WAY  95823    CA     3      2    1477  Residential   \n",
       "982    7933 DAFFODIL WAY  95610    CA     3      2    1216  Residential   \n",
       "983     8304 RED FOX WAY  95758    CA     4      2    1685  Residential   \n",
       "984  3882 YELLOWSTONE LN  95762    CA     3      2    1362  Residential   \n",
       "\n",
       "                        sale_date   price   latitude  ...  city_RIO LINDA  \\\n",
       "0    Wed May 21 00:00:00 EDT 2008   59222  38.631913  ...           False   \n",
       "1    Wed May 21 00:00:00 EDT 2008   68212  38.478902  ...           False   \n",
       "2    Wed May 21 00:00:00 EDT 2008   68880  38.618305  ...           False   \n",
       "3    Wed May 21 00:00:00 EDT 2008   69307  38.616835  ...           False   \n",
       "4    Wed May 21 00:00:00 EDT 2008   81900  38.519470  ...           False   \n",
       "..                            ...     ...        ...  ...             ...   \n",
       "980  Thu May 15 00:00:00 EDT 2008  232425  38.457679  ...           False   \n",
       "981  Thu May 15 00:00:00 EDT 2008  234000  38.499893  ...           False   \n",
       "982  Thu May 15 00:00:00 EDT 2008  235000  38.708824  ...           False   \n",
       "983  Thu May 15 00:00:00 EDT 2008  235301  38.417000  ...           False   \n",
       "984  Thu May 15 00:00:00 EDT 2008  235738  38.655245  ...           False   \n",
       "\n",
       "     city_ROCKLIN  city_ROSEVILLE  city_SACRAMENTO  city_SHINGLE SPRINGS  \\\n",
       "0           False           False             True                 False   \n",
       "1           False           False             True                 False   \n",
       "2           False           False             True                 False   \n",
       "3           False           False             True                 False   \n",
       "4           False           False             True                 False   \n",
       "..            ...             ...              ...                   ...   \n",
       "980         False           False             True                 False   \n",
       "981         False           False             True                 False   \n",
       "982         False           False            False                 False   \n",
       "983         False           False            False                 False   \n",
       "984         False           False            False                 False   \n",
       "\n",
       "     city_SLOUGHHOUSE  city_WALNUT GROVE  city_WEST SACRAMENTO  city_WILTON  \\\n",
       "0               False              False                 False        False   \n",
       "1               False              False                 False        False   \n",
       "2               False              False                 False        False   \n",
       "3               False              False                 False        False   \n",
       "4               False              False                 False        False   \n",
       "..                ...                ...                   ...          ...   \n",
       "980             False              False                 False        False   \n",
       "981             False              False                 False        False   \n",
       "982             False              False                 False        False   \n",
       "983             False              False                 False        False   \n",
       "984             False              False                 False        False   \n",
       "\n",
       "     type_num  \n",
       "0           1  \n",
       "1           1  \n",
       "2           1  \n",
       "3           1  \n",
       "4           1  \n",
       "..        ...  \n",
       "980         1  \n",
       "981         1  \n",
       "982         1  \n",
       "983         1  \n",
       "984         1  \n",
       "\n",
       "[813 rows x 50 columns]"
      ]
     },
     "execution_count": 18,
     "metadata": {},
     "output_type": "execute_result"
    }
   ],
   "source": [
    "dataset_encoded[dataset_encoded['state'] == 'CA']"
   ]
  },
  {
   "cell_type": "code",
   "execution_count": 19,
   "metadata": {},
   "outputs": [
    {
     "data": {
      "text/html": [
       "<div>\n",
       "<style scoped>\n",
       "    .dataframe tbody tr th:only-of-type {\n",
       "        vertical-align: middle;\n",
       "    }\n",
       "\n",
       "    .dataframe tbody tr th {\n",
       "        vertical-align: top;\n",
       "    }\n",
       "\n",
       "    .dataframe thead th {\n",
       "        text-align: right;\n",
       "    }\n",
       "</style>\n",
       "<table border=\"1\" class=\"dataframe\">\n",
       "  <thead>\n",
       "    <tr style=\"text-align: right;\">\n",
       "      <th></th>\n",
       "      <th>street</th>\n",
       "      <th>zip</th>\n",
       "      <th>state</th>\n",
       "      <th>beds</th>\n",
       "      <th>baths</th>\n",
       "      <th>sq__ft</th>\n",
       "      <th>type</th>\n",
       "      <th>sale_date</th>\n",
       "      <th>price</th>\n",
       "      <th>latitude</th>\n",
       "      <th>...</th>\n",
       "      <th>city_RIO LINDA</th>\n",
       "      <th>city_ROCKLIN</th>\n",
       "      <th>city_ROSEVILLE</th>\n",
       "      <th>city_SACRAMENTO</th>\n",
       "      <th>city_SHINGLE SPRINGS</th>\n",
       "      <th>city_SLOUGHHOUSE</th>\n",
       "      <th>city_WALNUT GROVE</th>\n",
       "      <th>city_WEST SACRAMENTO</th>\n",
       "      <th>city_WILTON</th>\n",
       "      <th>type_num</th>\n",
       "    </tr>\n",
       "  </thead>\n",
       "  <tbody>\n",
       "  </tbody>\n",
       "</table>\n",
       "<p>0 rows × 50 columns</p>\n",
       "</div>"
      ],
      "text/plain": [
       "Empty DataFrame\n",
       "Columns: [street, zip, state, beds, baths, sq__ft, type, sale_date, price, latitude, longitude, city_AUBURN, city_CAMERON PARK, city_CARMICHAEL, city_CITRUS HEIGHTS, city_COOL, city_DIAMOND SPRINGS, city_EL DORADO, city_EL DORADO HILLS, city_ELK GROVE, city_ELVERTA, city_FAIR OAKS, city_FOLSOM, city_FORESTHILL, city_GALT, city_GARDEN VALLEY, city_GOLD RIVER, city_GRANITE BAY, city_GREENWOOD, city_LINCOLN, city_LOOMIS, city_MATHER, city_MEADOW VISTA, city_NORTH HIGHLANDS, city_ORANGEVALE, city_PENRYN, city_PLACERVILLE, city_POLLOCK PINES, city_RANCHO CORDOVA, city_RANCHO MURIETA, city_RIO LINDA, city_ROCKLIN, city_ROSEVILLE, city_SACRAMENTO, city_SHINGLE SPRINGS, city_SLOUGHHOUSE, city_WALNUT GROVE, city_WEST SACRAMENTO, city_WILTON, type_num]\n",
       "Index: []\n",
       "\n",
       "[0 rows x 50 columns]"
      ]
     },
     "execution_count": 19,
     "metadata": {},
     "output_type": "execute_result"
    }
   ],
   "source": [
    "# What about the houses that are less than 0 dollars? \n",
    "dataset_encoded[dataset_encoded['price'] <= 0]"
   ]
  },
  {
   "cell_type": "code",
   "execution_count": 20,
   "metadata": {},
   "outputs": [
    {
     "data": {
      "text/html": [
       "<div>\n",
       "<style scoped>\n",
       "    .dataframe tbody tr th:only-of-type {\n",
       "        vertical-align: middle;\n",
       "    }\n",
       "\n",
       "    .dataframe tbody tr th {\n",
       "        vertical-align: top;\n",
       "    }\n",
       "\n",
       "    .dataframe thead th {\n",
       "        text-align: right;\n",
       "    }\n",
       "</style>\n",
       "<table border=\"1\" class=\"dataframe\">\n",
       "  <thead>\n",
       "    <tr style=\"text-align: right;\">\n",
       "      <th></th>\n",
       "      <th>street</th>\n",
       "      <th>zip</th>\n",
       "      <th>state</th>\n",
       "      <th>beds</th>\n",
       "      <th>baths</th>\n",
       "      <th>sq__ft</th>\n",
       "      <th>type</th>\n",
       "      <th>sale_date</th>\n",
       "      <th>price</th>\n",
       "      <th>latitude</th>\n",
       "      <th>...</th>\n",
       "      <th>city_RIO LINDA</th>\n",
       "      <th>city_ROCKLIN</th>\n",
       "      <th>city_ROSEVILLE</th>\n",
       "      <th>city_SACRAMENTO</th>\n",
       "      <th>city_SHINGLE SPRINGS</th>\n",
       "      <th>city_SLOUGHHOUSE</th>\n",
       "      <th>city_WALNUT GROVE</th>\n",
       "      <th>city_WEST SACRAMENTO</th>\n",
       "      <th>city_WILTON</th>\n",
       "      <th>type_num</th>\n",
       "    </tr>\n",
       "  </thead>\n",
       "  <tbody>\n",
       "  </tbody>\n",
       "</table>\n",
       "<p>0 rows × 50 columns</p>\n",
       "</div>"
      ],
      "text/plain": [
       "Empty DataFrame\n",
       "Columns: [street, zip, state, beds, baths, sq__ft, type, sale_date, price, latitude, longitude, city_AUBURN, city_CAMERON PARK, city_CARMICHAEL, city_CITRUS HEIGHTS, city_COOL, city_DIAMOND SPRINGS, city_EL DORADO, city_EL DORADO HILLS, city_ELK GROVE, city_ELVERTA, city_FAIR OAKS, city_FOLSOM, city_FORESTHILL, city_GALT, city_GARDEN VALLEY, city_GOLD RIVER, city_GRANITE BAY, city_GREENWOOD, city_LINCOLN, city_LOOMIS, city_MATHER, city_MEADOW VISTA, city_NORTH HIGHLANDS, city_ORANGEVALE, city_PENRYN, city_PLACERVILLE, city_POLLOCK PINES, city_RANCHO CORDOVA, city_RANCHO MURIETA, city_RIO LINDA, city_ROCKLIN, city_ROSEVILLE, city_SACRAMENTO, city_SHINGLE SPRINGS, city_SLOUGHHOUSE, city_WALNUT GROVE, city_WEST SACRAMENTO, city_WILTON, type_num]\n",
       "Index: []\n",
       "\n",
       "[0 rows x 50 columns]"
      ]
     },
     "execution_count": 20,
     "metadata": {},
     "output_type": "execute_result"
    }
   ],
   "source": [
    "# And the houses with negative square footage?\n",
    "dataset_encoded[dataset_encoded['sq__ft'] <= 0]"
   ]
  },
  {
   "cell_type": "code",
   "execution_count": 21,
   "metadata": {
    "scrolled": true
   },
   "outputs": [
    {
     "data": {
      "text/plain": [
       "Index(['street', 'zip', 'state', 'beds', 'baths', 'sq__ft', 'type',\n",
       "       'sale_date', 'price', 'latitude', 'longitude', 'city_AUBURN',\n",
       "       'city_CAMERON PARK', 'city_CARMICHAEL', 'city_CITRUS HEIGHTS',\n",
       "       'city_COOL', 'city_DIAMOND SPRINGS', 'city_EL DORADO',\n",
       "       'city_EL DORADO HILLS', 'city_ELK GROVE', 'city_ELVERTA',\n",
       "       'city_FAIR OAKS', 'city_FOLSOM', 'city_FORESTHILL', 'city_GALT',\n",
       "       'city_GARDEN VALLEY', 'city_GOLD RIVER', 'city_GRANITE BAY',\n",
       "       'city_GREENWOOD', 'city_LINCOLN', 'city_LOOMIS', 'city_MATHER',\n",
       "       'city_MEADOW VISTA', 'city_NORTH HIGHLANDS', 'city_ORANGEVALE',\n",
       "       'city_PENRYN', 'city_PLACERVILLE', 'city_POLLOCK PINES',\n",
       "       'city_RANCHO CORDOVA', 'city_RANCHO MURIETA', 'city_RIO LINDA',\n",
       "       'city_ROCKLIN', 'city_ROSEVILLE', 'city_SACRAMENTO',\n",
       "       'city_SHINGLE SPRINGS', 'city_SLOUGHHOUSE', 'city_WALNUT GROVE',\n",
       "       'city_WEST SACRAMENTO', 'city_WILTON', 'type_num'],\n",
       "      dtype='object')"
      ]
     },
     "execution_count": 21,
     "metadata": {},
     "output_type": "execute_result"
    }
   ],
   "source": [
    "# Let's check if any other values are labeled incorrectly.\n",
    "dataset_encoded.columns"
   ]
  },
  {
   "cell_type": "code",
   "execution_count": 22,
   "metadata": {
    "scrolled": true
   },
   "outputs": [
    {
     "data": {
      "text/html": [
       "<div>\n",
       "<style scoped>\n",
       "    .dataframe tbody tr th:only-of-type {\n",
       "        vertical-align: middle;\n",
       "    }\n",
       "\n",
       "    .dataframe tbody tr th {\n",
       "        vertical-align: top;\n",
       "    }\n",
       "\n",
       "    .dataframe thead th {\n",
       "        text-align: right;\n",
       "    }\n",
       "</style>\n",
       "<table border=\"1\" class=\"dataframe\">\n",
       "  <thead>\n",
       "    <tr style=\"text-align: right;\">\n",
       "      <th></th>\n",
       "      <th>street</th>\n",
       "      <th>zip</th>\n",
       "      <th>state</th>\n",
       "      <th>beds</th>\n",
       "      <th>baths</th>\n",
       "      <th>sq__ft</th>\n",
       "      <th>type</th>\n",
       "      <th>sale_date</th>\n",
       "      <th>price</th>\n",
       "      <th>latitude</th>\n",
       "      <th>...</th>\n",
       "      <th>city_RIO LINDA</th>\n",
       "      <th>city_ROCKLIN</th>\n",
       "      <th>city_ROSEVILLE</th>\n",
       "      <th>city_SACRAMENTO</th>\n",
       "      <th>city_SHINGLE SPRINGS</th>\n",
       "      <th>city_SLOUGHHOUSE</th>\n",
       "      <th>city_WALNUT GROVE</th>\n",
       "      <th>city_WEST SACRAMENTO</th>\n",
       "      <th>city_WILTON</th>\n",
       "      <th>type_num</th>\n",
       "    </tr>\n",
       "  </thead>\n",
       "  <tbody>\n",
       "    <tr>\n",
       "      <th>0</th>\n",
       "      <td>3526 HIGH ST</td>\n",
       "      <td>95838</td>\n",
       "      <td>CA</td>\n",
       "      <td>2</td>\n",
       "      <td>1</td>\n",
       "      <td>836</td>\n",
       "      <td>Residential</td>\n",
       "      <td>Wed May 21 00:00:00 EDT 2008</td>\n",
       "      <td>59222</td>\n",
       "      <td>38.631913</td>\n",
       "      <td>...</td>\n",
       "      <td>False</td>\n",
       "      <td>False</td>\n",
       "      <td>False</td>\n",
       "      <td>True</td>\n",
       "      <td>False</td>\n",
       "      <td>False</td>\n",
       "      <td>False</td>\n",
       "      <td>False</td>\n",
       "      <td>False</td>\n",
       "      <td>1</td>\n",
       "    </tr>\n",
       "    <tr>\n",
       "      <th>1</th>\n",
       "      <td>51 OMAHA CT</td>\n",
       "      <td>95823</td>\n",
       "      <td>CA</td>\n",
       "      <td>3</td>\n",
       "      <td>1</td>\n",
       "      <td>1167</td>\n",
       "      <td>Residential</td>\n",
       "      <td>Wed May 21 00:00:00 EDT 2008</td>\n",
       "      <td>68212</td>\n",
       "      <td>38.478902</td>\n",
       "      <td>...</td>\n",
       "      <td>False</td>\n",
       "      <td>False</td>\n",
       "      <td>False</td>\n",
       "      <td>True</td>\n",
       "      <td>False</td>\n",
       "      <td>False</td>\n",
       "      <td>False</td>\n",
       "      <td>False</td>\n",
       "      <td>False</td>\n",
       "      <td>1</td>\n",
       "    </tr>\n",
       "    <tr>\n",
       "      <th>2</th>\n",
       "      <td>2796 BRANCH ST</td>\n",
       "      <td>95815</td>\n",
       "      <td>CA</td>\n",
       "      <td>2</td>\n",
       "      <td>1</td>\n",
       "      <td>796</td>\n",
       "      <td>Residential</td>\n",
       "      <td>Wed May 21 00:00:00 EDT 2008</td>\n",
       "      <td>68880</td>\n",
       "      <td>38.618305</td>\n",
       "      <td>...</td>\n",
       "      <td>False</td>\n",
       "      <td>False</td>\n",
       "      <td>False</td>\n",
       "      <td>True</td>\n",
       "      <td>False</td>\n",
       "      <td>False</td>\n",
       "      <td>False</td>\n",
       "      <td>False</td>\n",
       "      <td>False</td>\n",
       "      <td>1</td>\n",
       "    </tr>\n",
       "    <tr>\n",
       "      <th>3</th>\n",
       "      <td>2805 JANETTE WAY</td>\n",
       "      <td>95815</td>\n",
       "      <td>CA</td>\n",
       "      <td>2</td>\n",
       "      <td>1</td>\n",
       "      <td>852</td>\n",
       "      <td>Residential</td>\n",
       "      <td>Wed May 21 00:00:00 EDT 2008</td>\n",
       "      <td>69307</td>\n",
       "      <td>38.616835</td>\n",
       "      <td>...</td>\n",
       "      <td>False</td>\n",
       "      <td>False</td>\n",
       "      <td>False</td>\n",
       "      <td>True</td>\n",
       "      <td>False</td>\n",
       "      <td>False</td>\n",
       "      <td>False</td>\n",
       "      <td>False</td>\n",
       "      <td>False</td>\n",
       "      <td>1</td>\n",
       "    </tr>\n",
       "  </tbody>\n",
       "</table>\n",
       "<p>4 rows × 50 columns</p>\n",
       "</div>"
      ],
      "text/plain": [
       "             street    zip state  beds  baths  sq__ft         type  \\\n",
       "0      3526 HIGH ST  95838    CA     2      1     836  Residential   \n",
       "1       51 OMAHA CT  95823    CA     3      1    1167  Residential   \n",
       "2    2796 BRANCH ST  95815    CA     2      1     796  Residential   \n",
       "3  2805 JANETTE WAY  95815    CA     2      1     852  Residential   \n",
       "\n",
       "                      sale_date  price   latitude  ...  city_RIO LINDA  \\\n",
       "0  Wed May 21 00:00:00 EDT 2008  59222  38.631913  ...           False   \n",
       "1  Wed May 21 00:00:00 EDT 2008  68212  38.478902  ...           False   \n",
       "2  Wed May 21 00:00:00 EDT 2008  68880  38.618305  ...           False   \n",
       "3  Wed May 21 00:00:00 EDT 2008  69307  38.616835  ...           False   \n",
       "\n",
       "   city_ROCKLIN  city_ROSEVILLE  city_SACRAMENTO  city_SHINGLE SPRINGS  \\\n",
       "0         False           False             True                 False   \n",
       "1         False           False             True                 False   \n",
       "2         False           False             True                 False   \n",
       "3         False           False             True                 False   \n",
       "\n",
       "   city_SLOUGHHOUSE  city_WALNUT GROVE  city_WEST SACRAMENTO  city_WILTON  \\\n",
       "0             False              False                 False        False   \n",
       "1             False              False                 False        False   \n",
       "2             False              False                 False        False   \n",
       "3             False              False                 False        False   \n",
       "\n",
       "   type_num  \n",
       "0         1  \n",
       "1         1  \n",
       "2         1  \n",
       "3         1  \n",
       "\n",
       "[4 rows x 50 columns]"
      ]
     },
     "execution_count": 22,
     "metadata": {},
     "output_type": "execute_result"
    }
   ],
   "source": [
    "dataset_encoded.head(4)"
   ]
  },
  {
   "cell_type": "code",
   "execution_count": 23,
   "metadata": {},
   "outputs": [],
   "source": [
    "# It looks like only one row is mislabeled, so we'll just drop that row.\n",
    "dataset_regression = dataset_encoded[[ 'zip', 'beds', 'baths', 'sq__ft', 'type',\n",
    "       'sale_date', 'price', 'latitude', 'longitude', 'type_num',\n",
    "       'city_AUBURN', 'city_CAMERON PARK', 'city_CARMICHAEL',\n",
    "       'city_CITRUS HEIGHTS', 'city_COOL', 'city_DIAMOND SPRINGS',\n",
    "       'city_EL DORADO', 'city_EL DORADO HILLS', 'city_ELK GROVE',\n",
    "       'city_ELVERTA', 'city_FAIR OAKS', 'city_FOLSOM', 'city_GALT',\n",
    "       'city_GARDEN VALLEY', 'city_GOLD RIVER', 'city_GRANITE BAY',\n",
    "       'city_GREENWOOD', 'city_LINCOLN', 'city_LOOMIS', 'city_MATHER',\n",
    "       'city_MEADOW VISTA', 'city_NORTH HIGHLANDS', 'city_ORANGEVALE',\n",
    "       'city_PENRYN', 'city_PLACERVILLE', 'city_POLLOCK PINES',\n",
    "       'city_RANCHO CORDOVA', 'city_RANCHO MURIETA', 'city_RIO LINDA',\n",
    "       'city_ROCKLIN', 'city_ROSEVILLE', 'city_SACRAMENTO', 'city_SLOUGHHOUSE',\n",
    "       'city_WALNUT GROVE', 'city_WEST SACRAMENTO', 'city_WILTON']]"
   ]
  },
  {
   "cell_type": "code",
   "execution_count": 24,
   "metadata": {
    "scrolled": true
   },
   "outputs": [
    {
     "data": {
      "text/plain": [
       "<Axes: >"
      ]
     },
     "execution_count": 24,
     "metadata": {},
     "output_type": "execute_result"
    },
    {
     "data": {
      "image/png": "[encoded data removed]",
      "text/plain": [
       "<Figure size 640x480 with 2 Axes>"
      ]
     },
     "metadata": {},
     "output_type": "display_data"
    }
   ],
   "source": [
    "dataset_corr = dataset_regression.corr(numeric_only=True)\n",
    "sns.heatmap(dataset_corr)"
   ]
  },
  {
   "cell_type": "markdown",
   "metadata": {},
   "source": [
    "### 3. Our goal will be to predict price. List variables that you think qualify as predictors of price in an SLR model. \n",
    "\n",
    "**For each of the variables you believe to be a valid potential predictor in an SLR model, generate a plot showing the relationship between the independent and dependent variables.**"
   ]
  },
  {
   "cell_type": "code",
   "execution_count": 25,
   "metadata": {},
   "outputs": [
    {
     "data": {
      "image/png": "[encoded data removed]",
      "text/plain": [
       "<Figure size 500x500 with 1 Axes>"
      ]
     },
     "metadata": {},
     "output_type": "display_data"
    },
    {
     "data": {
      "image/png": "[encoded data removed]",
      "text/plain": [
       "<Figure size 500x500 with 1 Axes>"
      ]
     },
     "metadata": {},
     "output_type": "display_data"
    },
    {
     "data": {
      "image/png": "[encoded data removed]",
      "text/plain": [
       "<Figure size 500x500 with 1 Axes>"
      ]
     },
     "metadata": {},
     "output_type": "display_data"
    }
   ],
   "source": [
    "sns.lmplot(x='sq__ft', y='price', data=dataset_regression)\n",
    "plt.show()\n",
    "sns.lmplot(x='beds', y='price', data=dataset_regression)\n",
    "plt.show()\n",
    "sns.lmplot(x='baths', y='price', data=dataset_regression)\n",
    "plt.show()"
   ]
  },
  {
   "cell_type": "code",
   "execution_count": 26,
   "metadata": {},
   "outputs": [
    {
     "data": {
      "text/html": [
       "<div>\n",
       "<style scoped>\n",
       "    .dataframe tbody tr th:only-of-type {\n",
       "        vertical-align: middle;\n",
       "    }\n",
       "\n",
       "    .dataframe tbody tr th {\n",
       "        vertical-align: top;\n",
       "    }\n",
       "\n",
       "    .dataframe thead th {\n",
       "        text-align: right;\n",
       "    }\n",
       "</style>\n",
       "<table border=\"1\" class=\"dataframe\">\n",
       "  <thead>\n",
       "    <tr style=\"text-align: right;\">\n",
       "      <th></th>\n",
       "      <th>zip</th>\n",
       "      <th>beds</th>\n",
       "      <th>baths</th>\n",
       "      <th>sq__ft</th>\n",
       "      <th>price</th>\n",
       "      <th>latitude</th>\n",
       "      <th>longitude</th>\n",
       "      <th>type_num</th>\n",
       "    </tr>\n",
       "  </thead>\n",
       "  <tbody>\n",
       "    <tr>\n",
       "      <th>count</th>\n",
       "      <td>813.000000</td>\n",
       "      <td>813.000000</td>\n",
       "      <td>813.000000</td>\n",
       "      <td>813.000000</td>\n",
       "      <td>813.000000</td>\n",
       "      <td>813.000000</td>\n",
       "      <td>813.000000</td>\n",
       "      <td>813.000000</td>\n",
       "    </tr>\n",
       "    <tr>\n",
       "      <th>mean</th>\n",
       "      <td>95761.400984</td>\n",
       "      <td>3.247232</td>\n",
       "      <td>1.961870</td>\n",
       "      <td>1591.892989</td>\n",
       "      <td>229471.130381</td>\n",
       "      <td>38.576931</td>\n",
       "      <td>-121.378533</td>\n",
       "      <td>1.082411</td>\n",
       "    </tr>\n",
       "    <tr>\n",
       "      <th>std</th>\n",
       "      <td>85.357516</td>\n",
       "      <td>0.849012</td>\n",
       "      <td>0.669367</td>\n",
       "      <td>663.908347</td>\n",
       "      <td>119897.576889</td>\n",
       "      <td>0.126352</td>\n",
       "      <td>0.119730</td>\n",
       "      <td>0.328226</td>\n",
       "    </tr>\n",
       "    <tr>\n",
       "      <th>min</th>\n",
       "      <td>95603.000000</td>\n",
       "      <td>1.000000</td>\n",
       "      <td>1.000000</td>\n",
       "      <td>484.000000</td>\n",
       "      <td>2000.000000</td>\n",
       "      <td>38.241514</td>\n",
       "      <td>-121.550527</td>\n",
       "      <td>1.000000</td>\n",
       "    </tr>\n",
       "    <tr>\n",
       "      <th>25%</th>\n",
       "      <td>95670.000000</td>\n",
       "      <td>3.000000</td>\n",
       "      <td>2.000000</td>\n",
       "      <td>1144.000000</td>\n",
       "      <td>148750.000000</td>\n",
       "      <td>38.473814</td>\n",
       "      <td>-121.451444</td>\n",
       "      <td>1.000000</td>\n",
       "    </tr>\n",
       "    <tr>\n",
       "      <th>50%</th>\n",
       "      <td>95820.000000</td>\n",
       "      <td>3.000000</td>\n",
       "      <td>2.000000</td>\n",
       "      <td>1419.000000</td>\n",
       "      <td>207973.000000</td>\n",
       "      <td>38.591618</td>\n",
       "      <td>-121.404999</td>\n",
       "      <td>1.000000</td>\n",
       "    </tr>\n",
       "    <tr>\n",
       "      <th>75%</th>\n",
       "      <td>95828.000000</td>\n",
       "      <td>4.000000</td>\n",
       "      <td>2.000000</td>\n",
       "      <td>1851.000000</td>\n",
       "      <td>285000.000000</td>\n",
       "      <td>38.674864</td>\n",
       "      <td>-121.325730</td>\n",
       "      <td>1.000000</td>\n",
       "    </tr>\n",
       "    <tr>\n",
       "      <th>max</th>\n",
       "      <td>95864.000000</td>\n",
       "      <td>8.000000</td>\n",
       "      <td>5.000000</td>\n",
       "      <td>5822.000000</td>\n",
       "      <td>884790.000000</td>\n",
       "      <td>39.008159</td>\n",
       "      <td>-120.597599</td>\n",
       "      <td>3.000000</td>\n",
       "    </tr>\n",
       "  </tbody>\n",
       "</table>\n",
       "</div>"
      ],
      "text/plain": [
       "                zip        beds       baths       sq__ft          price  \\\n",
       "count    813.000000  813.000000  813.000000   813.000000     813.000000   \n",
       "mean   95761.400984    3.247232    1.961870  1591.892989  229471.130381   \n",
       "std       85.357516    0.849012    0.669367   663.908347  119897.576889   \n",
       "min    95603.000000    1.000000    1.000000   484.000000    2000.000000   \n",
       "25%    95670.000000    3.000000    2.000000  1144.000000  148750.000000   \n",
       "50%    95820.000000    3.000000    2.000000  1419.000000  207973.000000   \n",
       "75%    95828.000000    4.000000    2.000000  1851.000000  285000.000000   \n",
       "max    95864.000000    8.000000    5.000000  5822.000000  884790.000000   \n",
       "\n",
       "         latitude   longitude    type_num  \n",
       "count  813.000000  813.000000  813.000000  \n",
       "mean    38.576931 -121.378533    1.082411  \n",
       "std      0.126352    0.119730    0.328226  \n",
       "min     38.241514 -121.550527    1.000000  \n",
       "25%     38.473814 -121.451444    1.000000  \n",
       "50%     38.591618 -121.404999    1.000000  \n",
       "75%     38.674864 -121.325730    1.000000  \n",
       "max     39.008159 -120.597599    3.000000  "
      ]
     },
     "execution_count": 26,
     "metadata": {},
     "output_type": "execute_result"
    }
   ],
   "source": [
    "dataset_regression.describe()"
   ]
  },
  {
   "cell_type": "code",
   "execution_count": 27,
   "metadata": {
    "scrolled": true
   },
   "outputs": [],
   "source": [
    "# To drop the outlier\n",
    "dataset_regression = dataset_regression[dataset_regression['price'] > 5000]"
   ]
  },
  {
   "cell_type": "markdown",
   "metadata": {},
   "source": [
    "When you've finished cleaning or have made a good deal of progress cleaning, it's always a good idea to save your work.\n",
    "```python\n",
    "shd.to_csv('./datasets/sacramento_real_estate_transactions_Clean.csv')\n",
    "```"
   ]
  },
  {
   "cell_type": "markdown",
   "metadata": {},
   "source": [
    "### 4. Which variable would be the best predictor of Y in an SLR model? Why?"
   ]
  },
  {
   "cell_type": "code",
   "execution_count": 28,
   "metadata": {},
   "outputs": [],
   "source": [
    "# Square fit is the highest affect to the price\n",
    "# Number of baths is second \n",
    "# Number of bedrooms is the third"
   ]
  },
  {
   "cell_type": "code",
   "execution_count": 29,
   "metadata": {},
   "outputs": [
    {
     "data": {
      "text/plain": [
       "<Axes: >"
      ]
     },
     "execution_count": 29,
     "metadata": {},
     "output_type": "execute_result"
    },
    {
     "data": {
      "image/png": "[encoded data removed]",
      "text/plain": [
       "<Figure size 640x480 with 2 Axes>"
      ]
     },
     "metadata": {},
     "output_type": "display_data"
    }
   ],
   "source": [
    "price_corr = dataset_regression[['beds', 'baths', 'sq__ft', 'type', 'sale_date', 'price',\n",
    "       'latitude', 'longitude']].corr(numeric_only=True)\n",
    "sns.heatmap(price_corr, annot=True)"
   ]
  },
  {
   "cell_type": "markdown",
   "metadata": {},
   "source": [
    "### 5. Build a Linear Regression model that will take in  `y` and `X`, and return the intercept and slope coefficients.. \n",
    "\n",
    "`y` is the target variable and `X` is the predictor variable.\n",
    "\n",
    "- **Report the slope and intercept.**"
   ]
  },
  {
   "cell_type": "code",
   "execution_count": 30,
   "metadata": {},
   "outputs": [],
   "source": [
    "x = dataset_regression[['sq__ft']]\n",
    "y = dataset_regression['price']"
   ]
  },
  {
   "cell_type": "code",
   "execution_count": 31,
   "metadata": {},
   "outputs": [],
   "source": [
    "model = LinearRegression()\n",
    "model.fit(x, y)\n",
    "y_pred = model.predict(x)"
   ]
  },
  {
   "cell_type": "markdown",
   "metadata": {},
   "source": [
    "### 6. Interpret the intercept. Interpret the slope."
   ]
  },
  {
   "cell_type": "code",
   "execution_count": 32,
   "metadata": {},
   "outputs": [
    {
     "name": "stdout",
     "output_type": "stream",
     "text": [
      "Intercept is the price 15943.749961489171 when the Square feet equals to zero\n",
      "Intercept is the change in price [134.75120754] when we increased one unit in square feet\n"
     ]
    }
   ],
   "source": [
    "lr_intercept = model.intercept_\n",
    "lr_coef = model.coef_\n",
    "\n",
    "print(f'Intercept is the price {lr_intercept} when the Square feet equals to zero')\n",
    "print(f'Intercept is the change in price {lr_coef} when we increased one unit in square feet')"
   ]
  },
  {
   "cell_type": "markdown",
   "metadata": {},
   "source": [
    "### 7. Give an example of how this model could be used for prediction and how it could be used for inference. \n",
    "\n",
    "**Be sure to make it clear which example is associated with prediction and which is associated with inference.**"
   ]
  },
  {
   "cell_type": "markdown",
   "metadata": {},
   "source": [
    "let's say i want to purchase a house and i don't know whether its overprice or not, i will use this model to see its predicted value and then compare it with it real price"
   ]
  },
  {
   "cell_type": "markdown",
   "metadata": {},
   "source": [
    "### 8: [Bonus] Using the model you came up with in Problem 5, calculate the residuals."
   ]
  },
  {
   "cell_type": "code",
   "execution_count": 33,
   "metadata": {},
   "outputs": [],
   "source": [
    "residuals = y - y_pred"
   ]
  },
  {
   "cell_type": "code",
   "execution_count": 34,
   "metadata": {},
   "outputs": [
    {
     "data": {
      "text/plain": [
       "0      -69373.759467\n",
       "1     -104986.409163\n",
       "2      -54325.711165\n",
       "3      -61444.778787\n",
       "4      -41440.462372\n",
       "           ...      \n",
       "980    -90751.503157\n",
       "981     19028.716499\n",
       "982     55198.781668\n",
       "983     -7698.534670\n",
       "984     36263.105366\n",
       "Name: price, Length: 812, dtype: float64"
      ]
     },
     "execution_count": 34,
     "metadata": {},
     "output_type": "execute_result"
    }
   ],
   "source": [
    "residuals"
   ]
  },
  {
   "cell_type": "code",
   "execution_count": 35,
   "metadata": {
    "scrolled": true
   },
   "outputs": [],
   "source": [
    "# Sum squared Error\n",
    "sse = np.sum((y - y_pred) ** 2)"
   ]
  },
  {
   "cell_type": "markdown",
   "metadata": {},
   "source": [
    "## Dummy Variables\n",
    "\n",
    "---\n",
    "\n",
    "It is important to be cautious with categorical variables, which represent distict groups or categories, when building a regression. If put in a regression \"as-is,\" categorical variables represented as integers will be treated like *continuous* variables.\n",
    "\n",
    "That is to say, instead of group \"3\" having a different effect on the estimation than group \"1\" it will estimate literally 3 times more than group 1. \n",
    "\n",
    "For example, if occupation category \"1\" represents \"analyst\" and occupation category \"3\" represents \"barista\", and our target variable is salary, if we leave this as a column of integers then barista will always have `beta*3` the effect of analyst.\n",
    "\n",
    "This will almost certainly force the beta coefficient to be something strange and incorrect. Instead, we can re-represent the categories as multiple \"dummy coded\" columns.\n",
    "\n",
    "### 9. Use the `pd.get_dummies` function to convert the `type` column into dummy-coded variables.\n",
    "\n",
    "Print out the header of the dummy-coded variable output."
   ]
  },
  {
   "cell_type": "code",
   "execution_count": 36,
   "metadata": {},
   "outputs": [],
   "source": [
    "# I already did"
   ]
  },
  {
   "cell_type": "markdown",
   "metadata": {},
   "source": [
    "---\n",
    "\n",
    "### A Word of Caution When Creating Dummies\n",
    "\n",
    "Let's touch on precautions we should take when dummy coding.\n",
    "\n",
    "**If you convert a qualitative variable to dummy variables, you want to turn a variable with N categories into N-1 variables.**\n",
    "\n",
    "> **Scenario 1:** Suppose we're working with the variable \"sex\" or \"gender\" with values \"M\" and \"F\". \n",
    "\n",
    "You should include in your model only one variable for \"sex = F\" which takes on 1 if sex is female and 0 if sex is not female! Rather than saying \"a one unit change in X,\" the coefficient associated with \"sex = F\" is interpreted as the average change in Y when sex = F relative to when sex = M.\n",
    "\n",
    "| Female | Male | \n",
    "|-------|------|\n",
    "| 0 | 1 | \n",
    "| 1 | 0 |\n",
    "| 0 | 1 |\n",
    "| 1 | 0 |\n",
    "| 1 | 0 |\n",
    "_As we can see a 1 in the female column indicates a 0 in the male column. And so, we have two columns stating the same information in different ways._\n",
    "\n",
    "> Scenario 2: Suppose we're modeling revenue at a bar for each of the days of the week. We have a column with strings identifying which day of the week this observation occured in.\n",
    "\n",
    "We might include six of the days as their own variables: \"Monday\", \"Tuesday\", \"Wednesday\", \"Thursday\", \"Friday\", \"Saturday\". **But not all 7 days.**  \n",
    "\n",
    "|Monday | Tuesday | Wednesday | Thursday | Friday | Saturday | \n",
    "|-------|---------|-----------|----------|--------|----------|\n",
    "| 1     | 0       |0          |      0   |0       | 0        | \n",
    "| 0     | 1       |0          |      0   |0       | 0        | \n",
    "| 0     | 0       |1          |      0   |0       | 0        | \n",
    "| 0     | 0       |0          |      1   |0       | 0        | \n",
    "| 0     | 0       |0          |      0   |1       | 0        | \n",
    "| 0     | 0       |0          |      0   |0       | 1        | \n",
    "| 0     | 0       |0          |      0   |0       | 0        | \n",
    "\n",
    "_As humans we can infer from the last row that if its is not Monday, Tusday, Wednesday, Thursday, Friday or Saturday than it must be Sunday. Models work the same way._\n",
    "\n",
    "The coefficient for Monday is then interpreted as the average change in revenue when \"day = Monday\" relative to \"day = Sunday.\" The coefficient for Tuesday is interpreted in the average change in revenue when \"day = Tuesday\" relative to \"day = Sunday\" and so on.\n",
    "\n",
    "The category you leave out, which the other columns are *relative to* is often referred to as the **reference category**."
   ]
  },
  {
   "cell_type": "markdown",
   "metadata": {},
   "source": [
    "### 10. Remove \"Unkown\" from four dummy coded variable dataframe and append the rest to the original data."
   ]
  },
  {
   "cell_type": "code",
   "execution_count": 37,
   "metadata": {},
   "outputs": [],
   "source": [
    "# I already did"
   ]
  },
  {
   "cell_type": "markdown",
   "metadata": {},
   "source": [
    "### 11. Build what you think may be the best MLR model predicting `price`. \n",
    "\n",
    "The independent variables are your choice, but *include at least three variables.* At least one of which should be a dummy-coded variable (either one we created before or a new one).\n",
    "\n",
    "To construct your model don't forget to load in the statsmodels api:\n",
    "\n",
    "```python\n",
    "from sklearn.linear_model import LinearRegression\n",
    "\n",
    "model = LinearRegression()\n",
    "```"
   ]
  },
  {
   "cell_type": "markdown",
   "metadata": {},
   "source": [
    "_I'm going to engineer a new dummy variable for 'HUGE houses'.  Those whose square footage is 3 (positive) standard deviations away from the mean._\n",
    "```\n",
    "Mean = 1315\n",
    "STD = 853\n",
    "Huge Houses > 3775 sq ft\n",
    "```"
   ]
  },
  {
   "cell_type": "code",
   "execution_count": 38,
   "metadata": {},
   "outputs": [],
   "source": [
    "features = ['beds', 'baths', 'sq__ft', 'latitude', 'longitude', 'type_num',\n",
    "            'city_AUBURN', 'city_CAMERON PARK', 'city_CARMICHAEL', 'city_CITRUS HEIGHTS',\n",
    "            'city_COOL', 'city_DIAMOND SPRINGS', 'city_EL DORADO', 'city_EL DORADO HILLS',\n",
    "            'city_ELK GROVE', 'city_ELVERTA', 'city_FAIR OAKS', 'city_FOLSOM', 'city_GALT',\n",
    "            'city_GARDEN VALLEY', 'city_GOLD RIVER', 'city_GRANITE BAY', 'city_GREENWOOD',\n",
    "            'city_LINCOLN', 'city_LOOMIS', 'city_MATHER', 'city_MEADOW VISTA',\n",
    "            'city_NORTH HIGHLANDS', 'city_ORANGEVALE', 'city_PENRYN', 'city_PLACERVILLE',\n",
    "            'city_POLLOCK PINES', 'city_RANCHO CORDOVA', 'city_RANCHO MURIETA',\n",
    "            'city_RIO LINDA', 'city_ROCKLIN', 'city_ROSEVILLE', 'city_SACRAMENTO',\n",
    "            'city_SLOUGHHOUSE', 'city_WALNUT GROVE', 'city_WEST SACRAMENTO', 'city_WILTON']\n",
    "\n",
    "X = dataset_regression[features]\n",
    "y = dataset_regression['price']"
   ]
  },
  {
   "cell_type": "code",
   "execution_count": 39,
   "metadata": {},
   "outputs": [
    {
     "data": {
      "text/plain": [
       "0.5706813800682383"
      ]
     },
     "execution_count": 39,
     "metadata": {},
     "output_type": "execute_result"
    }
   ],
   "source": [
    "X_train, X_test, y_train, y_test = train_test_split(X, y, test_size=0.2)\n",
    "\n",
    "model = LinearRegression()\n",
    "model.fit(X_train, y_train)\n",
    "\n",
    "y_pred = model.predict(X_test)\n",
    "r2 = r2_score(y_test, y_pred)\n",
    "r2"
   ]
  },
  {
   "cell_type": "code",
   "execution_count": 40,
   "metadata": {},
   "outputs": [
    {
     "data": {
      "text/plain": [
       "57.06813800682383"
      ]
     },
     "execution_count": 40,
     "metadata": {},
     "output_type": "execute_result"
    }
   ],
   "source": [
    "r2 * 100"
   ]
  },
  {
   "cell_type": "code",
   "execution_count": 41,
   "metadata": {},
   "outputs": [
    {
     "data": {
      "text/plain": [
       "array([-2.1786700e+04,  5.3328400e+03,  1.4165000e+02,  3.8461010e+04,\n",
       "       -8.9967930e+04, -3.2125690e+04,  1.5027747e+05,  1.4769018e+05,\n",
       "        8.2929840e+04,  1.9217930e+04,  1.2145356e+05,  8.2935650e+04,\n",
       "       -0.0000000e+00,  8.8582730e+04,  1.6685640e+04, -3.9532810e+04,\n",
       "        3.6120900e+04,  1.4635922e+05,  3.1421000e+04, -0.0000000e+00,\n",
       "        1.3344098e+05,  3.0279352e+05,  2.4159760e+04,  3.9388130e+04,\n",
       "        3.8839235e+05, -4.4535220e+04,  8.1497630e+04, -1.4557640e+04,\n",
       "        7.5416700e+04,  3.3239225e+05,  1.9690459e+05,  1.1426026e+05,\n",
       "        5.0158800e+03,  3.1079510e+04,  3.0839400e+03,  1.1043515e+05,\n",
       "        6.1459660e+04, -1.9404100e+03,  0.0000000e+00,  1.4528053e+05,\n",
       "       -4.0699400e+03,  2.1380493e+05])"
      ]
     },
     "execution_count": 41,
     "metadata": {},
     "output_type": "execute_result"
    }
   ],
   "source": [
    "np.round(model.coef_ , decimals= 2)"
   ]
  },
  {
   "cell_type": "markdown",
   "metadata": {},
   "source": [
    "### 12. Plot the true price vs the predicted price to evaluate your MLR visually.\n",
    "\n",
    "> **Tip:** with seaborn's `sns.lmplot` you can set `x`, `y`, and even a `hue` (which will plot regression lines by category in different colors) to easily plot a regression line."
   ]
  },
  {
   "cell_type": "code",
   "execution_count": 42,
   "metadata": {},
   "outputs": [
    {
     "data": {
      "text/plain": [
       "Index(['zip', 'beds', 'baths', 'sq__ft', 'type', 'sale_date', 'price',\n",
       "       'latitude', 'longitude', 'type_num', 'city_AUBURN', 'city_CAMERON PARK',\n",
       "       'city_CARMICHAEL', 'city_CITRUS HEIGHTS', 'city_COOL',\n",
       "       'city_DIAMOND SPRINGS', 'city_EL DORADO', 'city_EL DORADO HILLS',\n",
       "       'city_ELK GROVE', 'city_ELVERTA', 'city_FAIR OAKS', 'city_FOLSOM',\n",
       "       'city_GALT', 'city_GARDEN VALLEY', 'city_GOLD RIVER',\n",
       "       'city_GRANITE BAY', 'city_GREENWOOD', 'city_LINCOLN', 'city_LOOMIS',\n",
       "       'city_MATHER', 'city_MEADOW VISTA', 'city_NORTH HIGHLANDS',\n",
       "       'city_ORANGEVALE', 'city_PENRYN', 'city_PLACERVILLE',\n",
       "       'city_POLLOCK PINES', 'city_RANCHO CORDOVA', 'city_RANCHO MURIETA',\n",
       "       'city_RIO LINDA', 'city_ROCKLIN', 'city_ROSEVILLE', 'city_SACRAMENTO',\n",
       "       'city_SLOUGHHOUSE', 'city_WALNUT GROVE', 'city_WEST SACRAMENTO',\n",
       "       'city_WILTON'],\n",
       "      dtype='object')"
      ]
     },
     "execution_count": 42,
     "metadata": {},
     "output_type": "execute_result"
    }
   ],
   "source": [
    "dataset_regression.columns"
   ]
  },
  {
   "cell_type": "code",
   "execution_count": 43,
   "metadata": {},
   "outputs": [
    {
     "data": {
      "text/plain": [
       "<seaborn.axisgrid.FacetGrid at 0x1cbaed57690>"
      ]
     },
     "execution_count": 43,
     "metadata": {},
     "output_type": "execute_result"
    },
    {
     "data": {
      "image/png": "[encoded data removed]",
      "text/plain": [
       "<Figure size 633.75x500 with 1 Axes>"
      ]
     },
     "metadata": {},
     "output_type": "display_data"
    }
   ],
   "source": [
    "sns.lmplot(\n",
    "    x='sq__ft',\n",
    "    y='price',\n",
    "    hue='type',\n",
    "    data=dataset_regression)"
   ]
  },
  {
   "cell_type": "markdown",
   "metadata": {},
   "source": [
    "### 13. List the five assumptions for an MLR model. \n",
    "\n",
    "Indicate which ones are the same as the assumptions for an SLR model. "
   ]
  },
  {
   "cell_type": "markdown",
   "metadata": {},
   "source": [
    "**SLR AND MLR**:  \n",
    "\n",
    "- *Linearity: Y must have an approximately linear relationship with each independent X_i.*\n",
    "- *Independence: Errors (residuals) e_i and e_j must be independent of one another for any i != j.*\n",
    "- *Normality: The errors (residuals) follow a Normal distribution.*\n",
    "- *Equality of Variances: The errors (residuals) should have a roughly consistent pattern, regardless of the value of the X_i. (There should be no discernable relationship between X_1 and the residuals.)*\n",
    "\n",
    "**MLR ONLY**:  \n",
    "- *Independence Part 2: The independent variables X_i and X_j must be independent of one another for any i != j*\n",
    "\n",
    "\n",
    "\n"
   ]
  },
  {
   "cell_type": "markdown",
   "metadata": {},
   "source": [
    "### 14. Pick at least two assumptions and articulate whether or not you believe them to be met  for your model and why."
   ]
  },
  {
   "cell_type": "code",
   "execution_count": 44,
   "metadata": {},
   "outputs": [],
   "source": [
    "# Normality:  Do the Residual Errors follow a normal distribution?\n",
    "residuals = y_test - y_pred"
   ]
  },
  {
   "cell_type": "code",
   "execution_count": 45,
   "metadata": {},
   "outputs": [
    {
     "data": {
      "image/png": "[encoded data removed]",
      "text/plain": [
       "<Figure size 640x480 with 1 Axes>"
      ]
     },
     "metadata": {},
     "output_type": "display_data"
    }
   ],
   "source": [
    "stats.probplot(residuals, dist=\"norm\", plot=plt)\n",
    "plt.title(\"Q-Q Plot of Residuals\")\n",
    "plt.show()"
   ]
  },
  {
   "cell_type": "code",
   "execution_count": 46,
   "metadata": {},
   "outputs": [
    {
     "data": {
      "image/png": "[encoded data removed]",
      "text/plain": [
       "<Figure size 640x480 with 1 Axes>"
      ]
     },
     "metadata": {},
     "output_type": "display_data"
    }
   ],
   "source": [
    "# Your residuals do not appear to be normally distributed.\n",
    "sns.histplot(residuals, kde=True)\n",
    "plt.title(\"Histogram of Residuals\")\n",
    "plt.show()"
   ]
  },
  {
   "cell_type": "markdown",
   "metadata": {},
   "source": [
    "the error is not normal so their are bias or highly errored predictions when the price is high"
   ]
  },
  {
   "cell_type": "code",
   "execution_count": 47,
   "metadata": {},
   "outputs": [
    {
     "data": {
      "image/png": "[encoded data removed]",
      "text/plain": [
       "<Figure size 640x480 with 1 Axes>"
      ]
     },
     "metadata": {},
     "output_type": "display_data"
    }
   ],
   "source": [
    "# Equality of variance.  \n",
    "plt.scatter(y_pred, residuals)\n",
    "plt.axhline(0, color='red')\n",
    "plt.title(\"Residuals vs Predicted Values\")\n",
    "plt.xlabel(\"Predicted Values\")\n",
    "plt.ylabel(\"Residuals\")\n",
    "plt.show()"
   ]
  },
  {
   "cell_type": "markdown",
   "metadata": {},
   "source": [
    " There are curve in the errors, so it failed in this one "
   ]
  },
  {
   "cell_type": "markdown",
   "metadata": {},
   "source": [
    "### 17. Metrics, metrics, everywhere...\n",
    "\n",
    "Write a function to calculate and print or return regression metrics.  Use other functions liberally, including those found in `sklearn.metrics`.\n",
    "\n",
    "MSE, RMSE, R squared"
   ]
  },
  {
   "cell_type": "code",
   "execution_count": 49,
   "metadata": {},
   "outputs": [
    {
     "name": "stdout",
     "output_type": "stream",
     "text": [
      "MSE: 5212561372.877203\n",
      "RMSE: 72198.07042350373\n",
      "R2: 0.5706813800682383\n"
     ]
    }
   ],
   "source": [
    "mse = metrics.mean_squared_error(y_test, y_pred)\n",
    "rmse = metrics.root_mean_squared_error(y_test,y_pred)\n",
    "r2 = metrics.r2_score(y_test , y_pred)\n",
    "\n",
    "print(\"MSE:\", mse)\n",
    "print(\"RMSE:\", rmse)\n",
    "print(\"R2:\", r2)"
   ]
  }
 ],
 "metadata": {
  "anaconda-cloud": {},
  "kernelspec": {
   "display_name": "Python 3 (ipykernel)",
   "language": "python",
   "name": "python3"
  },
  "language_info": {
   "codemirror_mode": {
    "name": "ipython",
    "version": 3
   },
   "file_extension": ".py",
   "mimetype": "text/x-python",
   "name": "python",
   "nbconvert_exporter": "python",
   "pygments_lexer": "ipython3",
   "version": "3.11.9"
  }
 },
 "nbformat": 4,
 "nbformat_minor": 4
}
